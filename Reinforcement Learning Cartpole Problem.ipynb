{
 "cells": [
  {
   "cell_type": "markdown",
   "metadata": {
    "id": "IbWPQgaONz4W"
   },
   "source": [
    "# DQN on the CartPole problem"
   ]
  },
  {
   "cell_type": "markdown",
   "metadata": {
    "id": "CqUy1hiUNz4a"
   },
   "source": [
    "In this assignment you will implement the DQN algorithm to solve a classic control problem, the CartPole."
   ]
  },
  {
   "cell_type": "markdown",
   "metadata": {
    "id": "RnAtht5sNz4b"
   },
   "source": [
    "### The CartPole problem"
   ]
  },
  {
   "cell_type": "markdown",
   "metadata": {
    "id": "Hz6uafiDNz4b"
   },
   "source": [
    "As the image below shows, the goal of the agent is to balance a verticle rod on the top of the car. This position is unstable and that is the main reason for the difficulty.\n",
    "\n",
    "<img src=\"https://drive.google.com/uc?export=download&id=1wiFksyB3-mcirfdZEvrT2DPD7SBEjye2\" >\n",
    "\n",
    "The problem is solved if the average of the agent's scores is greater than 195 gathered in 100 episodes.\n",
    "The agent receives reward 1 in each timestep until the psoition of the rod is correct (not inclined too far away from the vertical position).\n",
    "The length of one episode is 200 time steps. Therefore the possible maximum score is 200.\n",
    "\n",
    "The state is low dimensional and cosists of:\n",
    "* position \n",
    "* velocity\n",
    "* angle \n",
    "* angular velocity\n",
    "\n",
    "Further details can be found on OpenAI gym's webpage: [Leader Board](https://github.com/openai/gym/wiki/CartPole-v0)"
   ]
  },
  {
   "cell_type": "markdown",
   "metadata": {
    "id": "yxMINnQTqWoz"
   },
   "source": [
    "## To Solve this problem we need to know a few concepts from Reinforcement Learning."
   ]
  },
  {
   "cell_type": "markdown",
   "metadata": {
    "id": "e9_0iqIv4658"
   },
   "source": [
    "## What is Q Learning?\n",
    "\n",
    "Q learning is a reinforement learning technique that is used to find the best action given the current state. In Q learning a memory table of Q[state, action] is formed which stores all the possible combinations for state and action. In this at the end the agent has to act in a way to maximize the Q value function."
   ]
  },
  {
   "cell_type": "markdown",
   "metadata": {
    "id": "koKeEDcWqZ3F"
   },
   "source": [
    "## What is a DQN?\n",
    "\n",
    "DQN or Deep Q Network was invented to leverage the power of a deep neural networks in Q Learning technique of Reinforement Learning. Q learning in general is an memory and computationally intensive technique.Hence, If we take a case in a continious world such as a cartpole problem where, so many actions and states exist which make the problem computationally and memory expensive to solve simply via Q learning. So, we need to create a deep network Q-Learning function approximator. The main idea is to use a Deep Neural network to represent the Q network and train the network to predict the reward.\n",
    "\n",
    "But, still the DQN was not very reliable in terms of convergence to the right return because of high correlation and high variance in the data. How we overcame these problems is discussed next."
   ]
  },
  {
   "cell_type": "markdown",
   "metadata": {
    "id": "87V51WDIqeyr"
   },
   "source": [
    "## Experience replay and Iterative Update\n",
    "\n",
    "The initial DQNs were not very stable in terms of convergence towards the right return. Hence, to assure convergence stability in DQN we introduced two techniques Experience replay and Iterative update.\n",
    "\n",
    "1. Experience Replay : If all the data samples are sequentially taken into account these samples would have very high correlation between them which inturn makes learning process slower. To solve this problem we use experience replay.\n",
    "\n",
    " A replay buffer gathers experiences in a buffer and training batches are sampled according to a uniform distribution, this solves the problem of sequential data and reduces correlation problem. In addition, there are a few important experiences which are visited less number of times but should be visited a lot more times since they effect the policy strongly. Replay buffer also solves that problem of rare visits and rare experiences can be used several times.\n",
    " \n",
    "\n",
    "2. Iterative Update : Another reason for instability of DQN is fast change (high variance) of the one-step return. In this the weights are updated frequently which leads to the network having no time to follow up changes. For this problem iterative update was introduced.\n",
    "\n",
    "  Iterative update or (delayed update) uses two networks for representing the  Q -function. The architecture is the same but the weights are different. The weights are synchronized after a given number of steps. This solves the problem of fast change\n",
    "\n",
    "With the help of these techniques we were able to successfully implement the cartpole problem with the help of DQNs quite successfully."
   ]
  },
  {
   "cell_type": "code",
   "execution_count": null,
   "metadata": {
    "colab": {
     "base_uri": "https://localhost:8080/"
    },
    "id": "7K03ODrhNz4c",
    "outputId": "0c2c972b-ce39-4f58-859e-3c4219a6bea9"
   },
   "outputs": [
    {
     "name": "stdout",
     "output_type": "stream",
     "text": [
      "TensorFlow 1.x selected.\n"
     ]
    },
    {
     "name": "stderr",
     "output_type": "stream",
     "text": [
      "Using TensorFlow backend.\n"
     ]
    }
   ],
   "source": [
    "%matplotlib inline\n",
    "%tensorflow_version 1.x\n",
    "import matplotlib.pyplot as plt\n",
    "import gym \n",
    "from gym.wrappers import Monitor\n",
    "import numpy as np\n",
    "import random\n",
    "from enum import Enum\n",
    "from skimage import transform as trf\n",
    "from keras.models import Sequential # Keras: highlevel API above dnn libraries (tendorflow, cntr, theano)\n",
    "from keras.layers import Dense, Convolution2D, Flatten\n",
    "from keras.optimizers import Adam, SGD, RMSprop"
   ]
  },
  {
   "cell_type": "code",
   "execution_count": null,
   "metadata": {
    "id": "eEwymtYANz4d"
   },
   "outputs": [],
   "source": [
    "class Optimizer(Enum): # Enum, Makes easier to try different optimizers\n",
    "    ADAM = 1\n",
    "    RMSPROP = 2\n",
    "    SGD = 3"
   ]
  },
  {
   "cell_type": "code",
   "execution_count": null,
   "metadata": {
    "id": "2HDKQbGeNz4e"
   },
   "outputs": [],
   "source": [
    "# The implementation of DQN.\n",
    "class Dqn:\n",
    "    \n",
    "    def __init__(self, params):         \n",
    "        self.env = None                       # The environment where the RL agent will learn.\n",
    "        self.buffer_size = params.buf_size    # The maximum size of the experience replay.\n",
    "        self.batch_size = params.batch        # Batch size during training.\n",
    "        self.epoch = params.epoch             # For one training cycle, the number epoch on a batch.\n",
    "        self.max_episode = params.max_ep      # The number of episodes for training.\n",
    "        self.eps0 = params.eps                # The starting value of epsilon in the epsilon-greedy policy.\n",
    "        self.gamma = params.gamma             # Discounting factor.\n",
    "        self.C = params.C                     # Frequency of synchronizing the frozen network.\n",
    "        self.train_freq = params.train_freq   # Update frequency for the not frozen network.\n",
    "        self.eval_freq = params.eval_freq     # Evaluation frequency.\n",
    "        self.net = params.net                 # The description of the network. List of tuples. A tuple: (number of units, activation)\n",
    "        self.lr = params.lr                   # learning rate\n",
    "        self.opt = params.opt                 # Optimizer.\n",
    "\n",
    "        self.q_cont, self.q_frzn = None, None # two networks for training: continuously updated and frozen\n",
    "\n",
    "        self.buffer = []  # experience replay\n",
    "        \n",
    "        self.env = gym.make('CartPole-v0')\n",
    "        self.env.reset()\n",
    "        self.q_cont, self.q_frzn = self._init_models()\n",
    "    \n",
    "    # ------------------------------------------------------\n",
    "    # functions for inicialization\n",
    "    \n",
    "    def _init_optimizer(self):\n",
    "\n",
    "        optz = None\n",
    "        if self.opt == Optimizer.ADAM:\n",
    "            optz = Adam(self.lr)\n",
    "        elif self.opt == Optimizer.SGD:\n",
    "            optz = SGD(self.lr)\n",
    "        elif self.opt == Optimizer.RMSPROP:\n",
    "            optz = RMSprop(self.lr)\n",
    "\n",
    "        return optz\n",
    "\n",
    "    # The network builds up from Dense layers (similar to the fully connected)\n",
    "    def _init_models(self):\n",
    "        \n",
    "        def build(strc):\n",
    "            # strc - list of tuples\n",
    "            # each tuple contains: number of nodes in the dense layer, activation function name (e.g.: 'relu')\n",
    "            # ----- implement this -----\n",
    "            q =Sequential()  # ----- create a sequential model -----\n",
    "            # ----- add a dense layer with input_shape 4 (4 frames will be stacked) -----\n",
    "            # use the strc for accessing the required parameters\n",
    "            q.add(Dense(strc[0][0], activation = strc[0][1], input_shape = (4,))) #initial input layer\n",
    "\n",
    "\n",
    "            for i in range(1, len(strc)):\n",
    "                # ----- add the remaining dense layers to the model\n",
    "                q.add(Dense(strc[i][0], activation = strc[i][1])) #stacking layers\n",
    "\n",
    "\n",
    "            optz = self._init_optimizer()\n",
    "            # compile the model with an appropriate loss function\n",
    "            q.compile(loss = 'mse', optimizer = optz) #since the neural network is trying to predict the accurate reward value we use mse as the loss function\n",
    "\n",
    "            return q #returns neural network\n",
    "\n",
    "        q_cont = build(self.net)  # continuously updated network (Q-function)\n",
    "        q_frzn = build(self.net)  # frozen network\n",
    "\n",
    "        q_cont.set_weights(q_frzn.get_weights())  # synchronization\n",
    "\n",
    "        return q_cont, q_frzn\n",
    "\n",
    "    def _init_buffer(self, number):\n",
    "        # gathers 'number' pieces of experiences randomly\n",
    "        # ----- study and undertand this piece of code carefully -----\n",
    "        exps = []\n",
    "        obs, rw, done, _ = self.env.step(0)\n",
    "        for _ in range(number):\n",
    "\n",
    "            if done:\n",
    "                obs = self.env.reset()\n",
    "\n",
    "            action = self.env.action_space.sample()  # sampling random actions from the environment\n",
    "            obs_next, rw, done, _ = self.env.step(action)  # taking the step and observe the results\n",
    "            exps.append((obs, rw, action, done, obs_next))  # we append a new experience\n",
    "            obs = obs_next\n",
    "\n",
    "        self.append(exps)  # you will implement this function\n",
    "    \n",
    "    def close(self):\n",
    "        self.env.close()\n",
    "\n",
    "    def train_function(self):\n",
    "        \n",
    "        # initializing experience replay with random experiences\n",
    "        self._init_buffer(self.batch_size)\n",
    "\n",
    "        print(\"Initialization was finished.\")\n",
    "        print(\"Training was started.\")\n",
    "\n",
    "        ep_id = 1\n",
    "        cntr = 0\n",
    "        eval_permitted = True\n",
    "        rtn = 0\n",
    "        exps = []\n",
    "        \n",
    "        ep_ids = []\n",
    "        returns = []\n",
    "\n",
    "        eps = self.eps0\n",
    "        self.env.reset()\n",
    "        obs, _, done, _ = self.env.step(0)\n",
    "\n",
    "        while ep_id < self.max_episode:\n",
    "\n",
    "            cntr += 1\n",
    "\n",
    "            if done:\n",
    "                if ep_id % 10 == 0:\n",
    "                    print('Episode Id: ' + str(ep_id) + ' Return during training: ' + str(rtn))\n",
    "                rtn = 0\n",
    "                ep_id += 1\n",
    "                eval_permitted = True\n",
    "                obs = self.env.reset() # when an episode ends (done = True) the environment is reseted\n",
    "            \n",
    "            action = self.select_action_epsilon(obs, eps)  # ---- select the next action with epsilon greedy -----\n",
    "\n",
    "            obs_next, rw, done, _ = self.env.step(action)  # ----- take a new step with the environment -----\n",
    "            rtn += rw\n",
    "            \n",
    "            if done:                     ## calculating return\n",
    "                if rtn < 180:\n",
    "                    rw = -1\n",
    "                    obs_next *= 0.0\n",
    "                    obs *= 0.0\n",
    "                elif rtn >= 180:\n",
    "                    rw = 100\n",
    "\n",
    "            exps.append((obs, rw, action, done, obs_next))\n",
    "            obs = obs_next\n",
    "\n",
    "            if cntr % 128 == 0:\n",
    "                self.append(exps)\n",
    "                exps.clear()\n",
    "            \n",
    "            # training\n",
    "            if  cntr % self.train_freq == 0:\n",
    "              # ----- sample experiences from the replay then train q_cont with them\n",
    "              s1,s2 = self.sample(self.batch_size)\n",
    "              self.q_cont.fit(s1, s2, epochs = self.epoch, batch_size = self.batch_size, verbose = False)\n",
    "                \n",
    "            ## this part deals with the iterative update\n",
    "            # synchronizing the frozen network\n",
    "            if cntr % self.C == 0:\n",
    "              self.q_frzn.set_weights(self.q_cont.get_weights())\n",
    "\n",
    "            # evaluating at the current stage of learning\n",
    "            if ep_id % self.eval_freq == 0 and eval_permitted:\n",
    "                r = self.evaluation()\n",
    "                ep_ids.append(ep_id)\n",
    "                returns.append(r)\n",
    "                #print('EValuation at episode: ' + str(ep_id) + ' -> ' +  str(r))\n",
    "                eval_permitted = False\n",
    "                if r >= 185:\n",
    "                    break\n",
    "            \n",
    "            # Decrasing the epsilon value for epsilon-greedy. Exploration -> exploitation\n",
    "            eps = max(eps - 0.001, 0.01)\n",
    "\n",
    "        print(\"Training was finished.\")\n",
    "        return ep_ids, returns\n",
    "\n",
    "    def evaluation(self, video=False): \n",
    "        \n",
    "        orig_env = self.env\n",
    "        if video:\n",
    "            self.env = Monitor(orig_env, 'videos/cartpole', force=True)\n",
    "\n",
    "        obs = self.env.reset()\n",
    "        done = False\n",
    "        rtn = 0\n",
    "        ep_id = 0\n",
    "        rtns = []\n",
    "\n",
    "        while ep_id < 50:\n",
    "\n",
    "            if done:\n",
    "                rtns.append(rtn)\n",
    "                rtn = 0\n",
    "                ep_id += 1\n",
    "                obs = self.env.reset()\n",
    "\n",
    "            action = self.select_action_epsilon(obs, 0.01)\n",
    "            obs, rw, done, _ = self.env.step(action)\n",
    "            rtn += rw\n",
    "\n",
    "        self.env = orig_env\n",
    "        return np.mean(rtns)\n",
    "\n",
    "    # ------------------------------------------------------\n",
    "    # Functions for handling the experience replay\n",
    "\n",
    "    def clear_buffer(self):\n",
    "        self.buffer.clear()\n",
    "\n",
    "    # The new experiences are added at the end of the buffer.\n",
    "    # The too old experiences are deleted.\n",
    "    def append(self, experiences):\n",
    "        # experiences - list of experiences\n",
    "        # ----- implement this -----\n",
    "        \n",
    "        # ----- check if appending the new set of experiences to the buffer has enough space -----\n",
    "        if self.buffer_size < (len(experiences) + len(self.buffer)):#checks if it has enough space\n",
    "          # ----- if not, delete as many experiences as required -----\n",
    "          self.buffer = self.buffer[len(experiences)- (self.buffer_size - len(self.buffer)):]#the part after the negative sign deletes the required number of values\n",
    "            \n",
    "\n",
    "        self.buffer += experiences  # finally we append the new experiences to the buffer\n",
    "\n",
    "    def sample(self, number):\n",
    "        exps = random.sample(self.buffer, number)    # experiences list\n",
    "        obs = np.stack([x[0] for x in exps], axis=0) # numpy array is used by keras, for creating a batch observations should be stacked\n",
    "       \n",
    "\n",
    "\n",
    "        rws = np.stack([x[1] for x in exps], axis=0) # ----- do similar stacking for the rewards -----\n",
    "        acts = np.stack([x[2] for x in exps], axis=0) # ----- implement this too -----\n",
    "        dones = np.stack([x[3] for x in exps], axis=0) # ----- implement this too -----\n",
    "        next_obs = np.stack([x[4] for x in exps], axis=0) # ----- implement this too -----\n",
    "\n",
    "\n",
    "# In the following two lines you take the frozen and the unfrozen networks and predict the next observation with a given batch size. \n",
    "# This is literally what you have done many time when you take a trained model and execute the predic function\n",
    "\n",
    "        q_vals = self.q_cont.predict(obs) # ----- predict (forward execute) with q_cont on obs -----   # q_vals size should be: (batch_size, 2)\n",
    "        fzn_q_vals = self.q_frzn.predict(next_obs) # ----- predict with q_frzn on next_obs -----\n",
    "        \n",
    "        # The action function is represented by a network.\n",
    "        # The input of this network is the state, \n",
    "        # the output is the set of action-values\n",
    "        # corresponding to the actions.\n",
    "        # So the number of outputs is equal with the nunmber of actions.\n",
    "        # In training we sample one transition at a time, therefore we have loss\n",
    "        # for only one output (action) at a time.\n",
    "        # But for training, we have to provide information for all of the outputs.\n",
    "        # How can we solve this?\n",
    "\n",
    " #  The sub_values are the rws plus the max of the frozen values times the discounted max of the frozen values. You thus do not need the intermediate step. You are predicting for the next observation already, so you already have the next value. \n",
    "        sub_values = rws + self.gamma * np.amax(fzn_q_vals,axis = 1)  # ----- calculate this according to the one-step return for Q-learning -----\n",
    "        q_vals[list(range(number)), acts] = sub_values  # this will be the target during training\n",
    "\n",
    "        x = obs.astype(dtype=np.float32)\n",
    "        y = q_vals.astype(dtype=np.float32)\n",
    "\n",
    "        return x, y\n",
    "\n",
    "    # ------------------------------------------------------\n",
    "    # Choosing an action\n",
    "\n",
    "    # epsilon-greedy\n",
    "    def select_action_epsilon(self, state, eps):  # state shape: (4) nunmpy array\n",
    "        s = np.expand_dims(state, axis=0)\n",
    "        max_idx = np.argmax(self.q_cont.predict(s, batch_size=1))\n",
    "        if np.random.random() < 1 - eps:\n",
    "            return max_idx\n",
    "        return (max_idx + 1) % 2 # now we have only two actions\n",
    "\n",
    "    # no epsilon-greedy\n",
    "    def select_action(self, state):\n",
    "        s = np.expand_dims(state, axis=0)\n",
    "        return np.argmax(self.q_cont.predict(s, batch_size=1))"
   ]
  },
  {
   "cell_type": "code",
   "execution_count": null,
   "metadata": {
    "id": "shWfGRBKNz4h"
   },
   "outputs": [],
   "source": [
    "class Parameters:\n",
    "\n",
    "    def __init__(self):\n",
    "                                 # Default values\n",
    "        self.buf_size = 5000     # 5000\n",
    "        self.batch = 256         # 256\n",
    "        self.epoch = 5           # 5\n",
    "        self.max_ep = 500        # 500\n",
    "        self.eps = 0.5           # 0.5\n",
    "        self.gamma = 0.9         # 0.9\n",
    "        self.C = 100             # 100\n",
    "        self.train_freq = 1      # 1\n",
    "        self.eval_freq = 10      # 10\n",
    "        self.net = [(128, 'relu'), (128, 'relu'), (2, 'relu')] # [(128, 'relu'), (128, 'relu'), (2, 'relu')]\n",
    "        self.lr = 0.0001         # 0.0001\n",
    "        self.opt = Optimizer.ADAM # Optimizer.ADAM"
   ]
  },
  {
   "cell_type": "code",
   "execution_count": null,
   "metadata": {
    "colab": {
     "base_uri": "https://localhost:8080/",
     "height": 739
    },
    "id": "n6iPMEMBNz4i",
    "outputId": "939264a4-1edd-47fb-ccfe-631faf0b1e21"
   },
   "outputs": [
    {
     "name": "stdout",
     "output_type": "stream",
     "text": [
      "WARNING:tensorflow:From /tensorflow-1.15.2/python3.7/tensorflow_core/python/ops/resource_variable_ops.py:1630: calling BaseResourceVariable.__init__ (from tensorflow.python.ops.resource_variable_ops) with constraint is deprecated and will be removed in a future version.\n",
      "Instructions for updating:\n",
      "If using Keras pass *_constraint arguments to layers.\n",
      "Initialization was finished.\n",
      "Training was started.\n",
      "WARNING:tensorflow:From /tensorflow-1.15.2/python3.7/keras/backend/tensorflow_backend.py:422: The name tf.global_variables is deprecated. Please use tf.compat.v1.global_variables instead.\n",
      "\n",
      "Episode Id: 10 Return during training: 10.0\n",
      "Episode Id: 20 Return during training: 13.0\n",
      "Episode Id: 30 Return during training: 13.0\n",
      "Episode Id: 40 Return during training: 11.0\n",
      "Episode Id: 50 Return during training: 10.0\n",
      "Episode Id: 60 Return during training: 14.0\n",
      "Episode Id: 70 Return during training: 30.0\n",
      "Episode Id: 80 Return during training: 41.0\n",
      "Episode Id: 90 Return during training: 34.0\n",
      "Episode Id: 100 Return during training: 66.0\n",
      "Episode Id: 110 Return during training: 116.0\n",
      "Episode Id: 120 Return during training: 125.0\n",
      "Episode Id: 130 Return during training: 120.0\n",
      "Episode Id: 140 Return during training: 144.0\n",
      "Episode Id: 150 Return during training: 134.0\n",
      "Episode Id: 160 Return during training: 130.0\n",
      "Episode Id: 170 Return during training: 165.0\n",
      "Episode Id: 180 Return during training: 169.0\n",
      "Training was finished.\n"
     ]
    },
    {
     "data": {
      "image/png": "[encoded data removed]",
      "text/plain": [
       "<Figure size 432x288 with 1 Axes>"
      ]
     },
     "metadata": {
      "needs_background": "light"
     },
     "output_type": "display_data"
    }
   ],
   "source": [
    "# Running the training and evaluation\n",
    "pms = Parameters()\n",
    "dqn = Dqn(pms)\n",
    "ep_ids, returns = dqn.train_function()\n",
    "plt.plot(ep_ids, returns)\n",
    "dqn.evaluation(video=False)\n",
    "dqn.close()"
   ]
  },
  {
   "cell_type": "markdown",
   "metadata": {
    "id": "6subVIFZNz4i"
   },
   "source": [
    "### Question:\n",
    "\n",
    "* Does it converge all the time?\n",
    "* What happens if you change the default parameters?"
   ]
  },
  {
   "cell_type": "markdown",
   "metadata": {
    "id": "erH5Bh71ixoo"
   },
   "source": [
    "Answers to the above two questions are at the end of notebook after all the explorations"
   ]
  },
  {
   "cell_type": "markdown",
   "metadata": {
    "id": "_utIbw6JMUCb"
   },
   "source": [
    "# Exploration of Different Parameters"
   ]
  },
  {
   "cell_type": "markdown",
   "metadata": {},
   "source": [
    "## Batch Size"
   ]
  },
  {
   "cell_type": "code",
   "execution_count": null,
   "metadata": {
    "id": "F7PctBj5Nz4j"
   },
   "outputs": [],
   "source": [
    "#Batch size of 128\n",
    "class Parameters:\n",
    "\n",
    "    def __init__(self):\n",
    "                                 # Default values\n",
    "        self.buf_size = 5000     # 5000\n",
    "        self.batch = 128         # 256\n",
    "        self.epoch = 5           # 5\n",
    "        self.max_ep = 500        # 500\n",
    "        self.eps = 0.5           # 0.5\n",
    "        self.gamma = 0.9         # 0.9\n",
    "        self.C = 100             # 100\n",
    "        self.train_freq = 1      # 1\n",
    "        self.eval_freq = 10      # 10\n",
    "        self.net = [(128, 'relu'), (128, 'relu'), (2, 'relu')] # [(128, 'relu'), (128, 'relu'), (2, 'relu')]\n",
    "        self.lr = 0.0001         # 0.0001\n",
    "        self.opt = Optimizer.ADAM # Optimizer.ADAM"
   ]
  },
  {
   "cell_type": "code",
   "execution_count": null,
   "metadata": {
    "colab": {
     "base_uri": "https://localhost:8080/",
     "height": 962
    },
    "id": "EsqBomaBzZEq",
    "outputId": "23678888-d084-4412-a768-836744e7cffc"
   },
   "outputs": [
    {
     "name": "stdout",
     "output_type": "stream",
     "text": [
      "WARNING:tensorflow:From /tensorflow-1.15.2/python3.7/tensorflow_core/python/ops/resource_variable_ops.py:1630: calling BaseResourceVariable.__init__ (from tensorflow.python.ops.resource_variable_ops) with constraint is deprecated and will be removed in a future version.\n",
      "Instructions for updating:\n",
      "If using Keras pass *_constraint arguments to layers.\n",
      "Initialization was finished.\n",
      "Training was started.\n",
      "WARNING:tensorflow:From /tensorflow-1.15.2/python3.7/keras/backend/tensorflow_backend.py:422: The name tf.global_variables is deprecated. Please use tf.compat.v1.global_variables instead.\n",
      "\n",
      "Episode Id: 10 Return during training: 12.0\n",
      "Episode Id: 20 Return during training: 11.0\n",
      "Episode Id: 30 Return during training: 12.0\n",
      "Episode Id: 40 Return during training: 12.0\n",
      "Episode Id: 50 Return during training: 11.0\n",
      "Episode Id: 60 Return during training: 12.0\n",
      "Episode Id: 70 Return during training: 32.0\n",
      "Episode Id: 80 Return during training: 27.0\n",
      "Episode Id: 90 Return during training: 24.0\n",
      "Episode Id: 100 Return during training: 49.0\n",
      "Episode Id: 110 Return during training: 55.0\n",
      "Episode Id: 120 Return during training: 126.0\n",
      "Episode Id: 130 Return during training: 167.0\n",
      "Episode Id: 140 Return during training: 28.0\n",
      "Episode Id: 150 Return during training: 9.0\n",
      "Episode Id: 160 Return during training: 200.0\n",
      "Episode Id: 170 Return during training: 17.0\n",
      "Episode Id: 180 Return during training: 70.0\n",
      "Episode Id: 190 Return during training: 84.0\n",
      "Episode Id: 200 Return during training: 9.0\n",
      "Episode Id: 210 Return during training: 48.0\n",
      "Episode Id: 220 Return during training: 85.0\n",
      "Episode Id: 230 Return during training: 66.0\n",
      "Episode Id: 240 Return during training: 91.0\n",
      "Episode Id: 250 Return during training: 18.0\n",
      "Episode Id: 260 Return during training: 68.0\n",
      "Episode Id: 270 Return during training: 65.0\n",
      "Episode Id: 280 Return during training: 74.0\n",
      "Episode Id: 290 Return during training: 129.0\n",
      "Episode Id: 300 Return during training: 119.0\n",
      "Episode Id: 310 Return during training: 200.0\n",
      "Training was finished.\n"
     ]
    },
    {
     "data": {
      "image/png": "[encoded data removed]",
      "text/plain": [
       "<Figure size 432x288 with 1 Axes>"
      ]
     },
     "metadata": {
      "needs_background": "light"
     },
     "output_type": "display_data"
    }
   ],
   "source": [
    "# Running the training and evaluation\n",
    "pms = Parameters()\n",
    "dqn = Dqn(pms)\n",
    "ep_ids, returns = dqn.train_function()\n",
    "plt.plot(ep_ids, returns)\n",
    "dqn.evaluation(video=False)\n",
    "dqn.close()"
   ]
  },
  {
   "cell_type": "code",
   "execution_count": null,
   "metadata": {
    "id": "NIVh8ckrzgMs"
   },
   "outputs": [],
   "source": [
    "#Batch size of 512\n",
    "class Parameters:\n",
    "\n",
    "    def __init__(self):\n",
    "                                 # Default values\n",
    "        self.buf_size = 5000     # 5000\n",
    "        self.batch = 512         # 256\n",
    "        self.epoch = 5           # 5\n",
    "        self.max_ep = 500        # 500\n",
    "        self.eps = 0.5           # 0.5\n",
    "        self.gamma = 0.9         # 0.9\n",
    "        self.C = 100             # 100\n",
    "        self.train_freq = 1      # 1\n",
    "        self.eval_freq = 10      # 10\n",
    "        self.net = [(128, 'relu'), (128, 'relu'), (2, 'relu')] # [(128, 'relu'), (128, 'relu'), (2, 'relu')]\n",
    "        self.lr = 0.0001         # 0.0001\n",
    "        self.opt = Optimizer.ADAM # Optimizer.ADAM"
   ]
  },
  {
   "cell_type": "code",
   "execution_count": null,
   "metadata": {
    "colab": {
     "base_uri": "https://localhost:8080/",
     "height": 791
    },
    "id": "9RCCsOwMzkPc",
    "outputId": "c6305f4c-8cff-4952-e241-64d0cfe611ba"
   },
   "outputs": [
    {
     "name": "stdout",
     "output_type": "stream",
     "text": [
      "WARNING:tensorflow:From /tensorflow-1.15.2/python3.7/tensorflow_core/python/ops/resource_variable_ops.py:1630: calling BaseResourceVariable.__init__ (from tensorflow.python.ops.resource_variable_ops) with constraint is deprecated and will be removed in a future version.\n",
      "Instructions for updating:\n",
      "If using Keras pass *_constraint arguments to layers.\n",
      "Initialization was finished.\n",
      "Training was started.\n",
      "WARNING:tensorflow:From /tensorflow-1.15.2/python3.7/keras/backend/tensorflow_backend.py:422: The name tf.global_variables is deprecated. Please use tf.compat.v1.global_variables instead.\n",
      "\n",
      "Episode Id: 10 Return during training: 16.0\n",
      "Episode Id: 20 Return during training: 15.0\n",
      "Episode Id: 30 Return during training: 10.0\n",
      "Episode Id: 40 Return during training: 10.0\n",
      "Episode Id: 50 Return during training: 11.0\n",
      "Episode Id: 60 Return during training: 14.0\n",
      "Episode Id: 70 Return during training: 53.0\n",
      "Episode Id: 80 Return during training: 18.0\n",
      "Episode Id: 90 Return during training: 16.0\n",
      "Episode Id: 100 Return during training: 38.0\n",
      "Episode Id: 110 Return during training: 156.0\n",
      "Episode Id: 120 Return during training: 12.0\n",
      "Episode Id: 130 Return during training: 10.0\n",
      "Episode Id: 140 Return during training: 37.0\n",
      "Episode Id: 150 Return during training: 46.0\n",
      "Episode Id: 160 Return during training: 200.0\n",
      "Episode Id: 170 Return during training: 33.0\n",
      "Episode Id: 180 Return during training: 40.0\n",
      "Episode Id: 190 Return during training: 118.0\n",
      "Episode Id: 200 Return during training: 106.0\n",
      "Episode Id: 210 Return during training: 154.0\n",
      "Training was finished.\n"
     ]
    },
    {
     "data": {
      "image/png": "[encoded data removed]",
      "text/plain": [
       "<Figure size 432x288 with 1 Axes>"
      ]
     },
     "metadata": {
      "needs_background": "light"
     },
     "output_type": "display_data"
    }
   ],
   "source": [
    "# Running the training and evaluation\n",
    "from tensorflow.keras import backend as be\n",
    "be.clear_session()\n",
    "pms = Parameters()\n",
    "dqn = Dqn(pms)\n",
    "ep_ids, returns = dqn.train_function()\n",
    "plt.plot(ep_ids, returns)\n",
    "dqn.evaluation(video=False)\n",
    "dqn.close()"
   ]
  },
  {
   "cell_type": "code",
   "execution_count": null,
   "metadata": {
    "id": "kEcN0ELdzmAg"
   },
   "outputs": [],
   "source": [
    "#Batch size of 32\n",
    "class Parameters:\n",
    "\n",
    "    def __init__(self):\n",
    "                                 # Default values\n",
    "        self.buf_size = 5000     # 5000\n",
    "        self.batch = 32         # 512\n",
    "        self.epoch = 5           # 5\n",
    "        self.max_ep = 500        # 500\n",
    "        self.eps = 0.5           # 0.5\n",
    "        self.gamma = 0.9         # 0.9\n",
    "        self.C = 100             # 100\n",
    "        self.train_freq = 1      # 1\n",
    "        self.eval_freq = 10      # 10\n",
    "        self.net = [(128, 'relu'), (128, 'relu'), (2, 'relu')] # [(128, 'relu'), (128, 'relu'), (2, 'relu')]\n",
    "        self.lr = 0.0001         # 0.0001\n",
    "        self.opt = Optimizer.ADAM # Optimizer.ADAM"
   ]
  },
  {
   "cell_type": "code",
   "execution_count": null,
   "metadata": {
    "colab": {
     "base_uri": "https://localhost:8080/",
     "height": 997
    },
    "id": "f_4ZLsH6zsRG",
    "outputId": "a217319a-c9cb-4e2b-f8bd-45ee7c247222"
   },
   "outputs": [
    {
     "name": "stdout",
     "output_type": "stream",
     "text": [
      "WARNING:tensorflow:From /tensorflow-1.15.2/python3.7/tensorflow_core/python/ops/resource_variable_ops.py:1630: calling BaseResourceVariable.__init__ (from tensorflow.python.ops.resource_variable_ops) with constraint is deprecated and will be removed in a future version.\n",
      "Instructions for updating:\n",
      "If using Keras pass *_constraint arguments to layers.\n",
      "Initialization was finished.\n",
      "Training was started.\n",
      "WARNING:tensorflow:From /tensorflow-1.15.2/python3.7/keras/backend/tensorflow_backend.py:422: The name tf.global_variables is deprecated. Please use tf.compat.v1.global_variables instead.\n",
      "\n",
      "Episode Id: 10 Return during training: 10.0\n",
      "Episode Id: 20 Return during training: 11.0\n",
      "Episode Id: 30 Return during training: 10.0\n",
      "Episode Id: 40 Return during training: 10.0\n",
      "Episode Id: 50 Return during training: 10.0\n",
      "Episode Id: 60 Return during training: 10.0\n",
      "Episode Id: 70 Return during training: 14.0\n",
      "Episode Id: 80 Return during training: 10.0\n",
      "Episode Id: 90 Return during training: 12.0\n",
      "Episode Id: 100 Return during training: 12.0\n",
      "Episode Id: 110 Return during training: 14.0\n",
      "Episode Id: 120 Return during training: 27.0\n",
      "Episode Id: 130 Return during training: 10.0\n",
      "Episode Id: 140 Return during training: 25.0\n",
      "Episode Id: 150 Return during training: 22.0\n",
      "Episode Id: 160 Return during training: 21.0\n",
      "Episode Id: 170 Return during training: 16.0\n",
      "Episode Id: 180 Return during training: 25.0\n",
      "Episode Id: 190 Return during training: 26.0\n",
      "Episode Id: 200 Return during training: 29.0\n",
      "Episode Id: 210 Return during training: 22.0\n",
      "Episode Id: 220 Return during training: 31.0\n",
      "Episode Id: 230 Return during training: 48.0\n",
      "Episode Id: 240 Return during training: 89.0\n",
      "Episode Id: 250 Return during training: 108.0\n",
      "Episode Id: 260 Return during training: 60.0\n",
      "Episode Id: 270 Return during training: 10.0\n",
      "Episode Id: 280 Return during training: 27.0\n",
      "Episode Id: 290 Return during training: 186.0\n",
      "Episode Id: 300 Return during training: 25.0\n",
      "Episode Id: 310 Return during training: 21.0\n",
      "Episode Id: 320 Return during training: 76.0\n",
      "Episode Id: 330 Return during training: 200.0\n",
      "Training was finished.\n"
     ]
    },
    {
     "data": {
      "image/png": "[encoded data removed]",
      "text/plain": [
       "<Figure size 432x288 with 1 Axes>"
      ]
     },
     "metadata": {
      "needs_background": "light"
     },
     "output_type": "display_data"
    }
   ],
   "source": [
    "# Running the training and evaluation\n",
    "from tensorflow.keras import backend as be\n",
    "be.clear_session()\n",
    "pms = Parameters()\n",
    "dqn = Dqn(pms)\n",
    "ep_ids, returns = dqn.train_function()\n",
    "plt.plot(ep_ids, returns)\n",
    "dqn.evaluation(video=False)\n",
    "dqn.close()"
   ]
  },
  {
   "cell_type": "markdown",
   "metadata": {
    "id": "lJPgLgtEQY5R"
   },
   "source": [
    "## Summary for Batch Size\n",
    "\n",
    "Explored different batch sizes of 32, 128 and 512 other than default of 256. Rest all parameters were kept as default parameters. For all of the different values of batch sizes tried above the system (DQN agent) converged. In terms of lower batch sizes (32 and 128) the system converged in over 300 episodes which is more than the default value convergence and with higher batch size value of 512 the convergence is around 200 episodes which is around the same value as default parameters. Hence, it seems like the default batch size of 256 is optimal."
   ]
  },
  {
   "cell_type": "markdown",
   "metadata": {
    "id": "yxxqiqUXSxCz"
   },
   "source": [
    "## Exploring buffer size:\n"
   ]
  },
  {
   "cell_type": "code",
   "execution_count": null,
   "metadata": {
    "id": "q0ZcxxsIRnFo"
   },
   "outputs": [],
   "source": [
    "#buffer size of 2500 \n",
    "class Parameters:\n",
    "\n",
    "    def __init__(self):\n",
    "                                 # Default values\n",
    "        self.buf_size = 2500     # 5000\n",
    "        self.batch = 256         # 256\n",
    "        self.epoch = 5           # 5\n",
    "        self.max_ep = 500        # 500\n",
    "        self.eps = 0.5           # 0.5\n",
    "        self.gamma = 0.9         # 0.9\n",
    "        self.C = 100             # 100\n",
    "        self.train_freq = 1      # 1\n",
    "        self.eval_freq = 10      # 10\n",
    "        self.net = [(128, 'relu'), (128, 'relu'), (2, 'relu')] # [(128, 'relu'), (128, 'relu'), (2, 'relu')]\n",
    "        self.lr = 0.0001         # 0.0001\n",
    "        self.opt = Optimizer.ADAM # Optimizer.ADAM\n"
   ]
  },
  {
   "cell_type": "code",
   "execution_count": null,
   "metadata": {
    "colab": {
     "base_uri": "https://localhost:8080/",
     "height": 701
    },
    "id": "7dHg1d1_RutR",
    "outputId": "3a038dc8-15a9-4053-f55e-14addcaf2430"
   },
   "outputs": [
    {
     "name": "stdout",
     "output_type": "stream",
     "text": [
      "WARNING:tensorflow:From /tensorflow-1.15.2/python3.7/tensorflow_core/python/ops/resource_variable_ops.py:1630: calling BaseResourceVariable.__init__ (from tensorflow.python.ops.resource_variable_ops) with constraint is deprecated and will be removed in a future version.\n",
      "Instructions for updating:\n",
      "If using Keras pass *_constraint arguments to layers.\n",
      "Initialization was finished.\n",
      "Training was started.\n",
      "WARNING:tensorflow:From /tensorflow-1.15.2/python3.7/keras/backend/tensorflow_backend.py:422: The name tf.global_variables is deprecated. Please use tf.compat.v1.global_variables instead.\n",
      "\n",
      "Episode Id: 10 Return during training: 17.0\n",
      "Episode Id: 20 Return during training: 9.0\n",
      "Episode Id: 30 Return during training: 10.0\n",
      "Episode Id: 40 Return during training: 10.0\n",
      "Episode Id: 50 Return during training: 9.0\n",
      "Episode Id: 60 Return during training: 12.0\n",
      "Episode Id: 70 Return during training: 20.0\n",
      "Episode Id: 80 Return during training: 55.0\n",
      "Episode Id: 90 Return during training: 27.0\n",
      "Episode Id: 100 Return during training: 96.0\n",
      "Episode Id: 110 Return during training: 10.0\n",
      "Episode Id: 120 Return during training: 9.0\n",
      "Episode Id: 130 Return during training: 10.0\n",
      "Episode Id: 140 Return during training: 200.0\n",
      "Episode Id: 150 Return during training: 200.0\n",
      "Episode Id: 160 Return during training: 14.0\n",
      "Training was finished.\n"
     ]
    },
    {
     "data": {
      "image/png": "[encoded data removed]",
      "text/plain": [
       "<Figure size 432x288 with 1 Axes>"
      ]
     },
     "metadata": {
      "needs_background": "light"
     },
     "output_type": "display_data"
    }
   ],
   "source": [
    "# Running the training and evaluation\n",
    "from tensorflow.keras import backend as be\n",
    "be.clear_session()\n",
    "pms = Parameters()\n",
    "dqn = Dqn(pms)\n",
    "ep_ids, returns = dqn.train_function()\n",
    "plt.plot(ep_ids, returns)\n",
    "dqn.evaluation(video=False)\n",
    "dqn.close()"
   ]
  },
  {
   "cell_type": "code",
   "execution_count": null,
   "metadata": {
    "id": "d8eQkpC8R3tM"
   },
   "outputs": [],
   "source": [
    "#buffer size of 10000\n",
    "class Parameters:\n",
    "\n",
    "    def __init__(self):\n",
    "                                 # Default values\n",
    "        self.buf_size = 10000     # 5000\n",
    "        self.batch = 256         # 256\n",
    "        self.epoch = 5           # 5\n",
    "        self.max_ep = 500        # 500\n",
    "        self.eps = 0.5           # 0.5\n",
    "        self.gamma = 0.9         # 0.9\n",
    "        self.C = 100             # 100\n",
    "        self.train_freq = 1      # 1\n",
    "        self.eval_freq = 10      # 10\n",
    "        self.net = [(128, 'relu'), (128, 'relu'), (2, 'relu')] # [(128, 'relu'), (128, 'relu'), (2, 'relu')]\n",
    "        self.lr = 0.0001         # 0.0001\n",
    "        self.opt = Optimizer.ADAM # Optimizer.ADAM"
   ]
  },
  {
   "cell_type": "code",
   "execution_count": null,
   "metadata": {
    "colab": {
     "base_uri": "https://localhost:8080/",
     "height": 632
    },
    "id": "cmmry_oUR6u1",
    "outputId": "9ef9e0c4-d823-4789-f02b-06d4ebe41ef2"
   },
   "outputs": [
    {
     "name": "stdout",
     "output_type": "stream",
     "text": [
      "WARNING:tensorflow:From /tensorflow-1.15.2/python3.7/tensorflow_core/python/ops/resource_variable_ops.py:1630: calling BaseResourceVariable.__init__ (from tensorflow.python.ops.resource_variable_ops) with constraint is deprecated and will be removed in a future version.\n",
      "Instructions for updating:\n",
      "If using Keras pass *_constraint arguments to layers.\n",
      "Initialization was finished.\n",
      "Training was started.\n",
      "WARNING:tensorflow:From /tensorflow-1.15.2/python3.7/keras/backend/tensorflow_backend.py:422: The name tf.global_variables is deprecated. Please use tf.compat.v1.global_variables instead.\n",
      "\n",
      "Episode Id: 10 Return during training: 10.0\n",
      "Episode Id: 20 Return during training: 14.0\n",
      "Episode Id: 30 Return during training: 11.0\n",
      "Episode Id: 40 Return during training: 11.0\n",
      "Episode Id: 50 Return during training: 11.0\n",
      "Episode Id: 60 Return during training: 9.0\n",
      "Episode Id: 70 Return during training: 14.0\n",
      "Episode Id: 80 Return during training: 22.0\n",
      "Episode Id: 90 Return during training: 34.0\n",
      "Episode Id: 100 Return during training: 31.0\n",
      "Episode Id: 110 Return during training: 77.0\n",
      "Episode Id: 120 Return during training: 161.0\n",
      "Training was finished.\n"
     ]
    },
    {
     "data": {
      "image/png": "[encoded data removed]",
      "text/plain": [
       "<Figure size 432x288 with 1 Axes>"
      ]
     },
     "metadata": {
      "needs_background": "light"
     },
     "output_type": "display_data"
    }
   ],
   "source": [
    "# Running the training and evaluation\n",
    "from tensorflow.keras import backend as be\n",
    "be.clear_session()\n",
    "pms = Parameters()\n",
    "dqn = Dqn(pms)\n",
    "ep_ids, returns = dqn.train_function()\n",
    "plt.plot(ep_ids, returns)\n",
    "dqn.evaluation(video=False)\n",
    "dqn.close()"
   ]
  },
  {
   "cell_type": "markdown",
   "metadata": {
    "id": "PN_yDnMmT5uR"
   },
   "source": [
    "## Summary for Buffer Size:\n",
    "\n",
    "Explored buffer size of 2500 and 10000, which are half and double of the default buffer size respectively. Rest of the parameters were kept as default. In both the cases the DQN system converged. In the case of smaller buffer size (2500) the number of episodes required to converge were around 170 and in case of higher buffer size the system converged on around 130 episodes. Additionally, the convergence of smaller buffer size is also very irratic compared to larger buffer size. Hence bigger the buffer size faster and smoother seems for the system/agent to converge "
   ]
  },
  {
   "cell_type": "markdown",
   "metadata": {
    "id": "7wVnQ6-nYmFg"
   },
   "source": [
    "## Exploring Gamma (Discounting Factor)"
   ]
  },
  {
   "cell_type": "code",
   "execution_count": null,
   "metadata": {
    "id": "sb1-m_D7KS-J"
   },
   "outputs": [],
   "source": [
    "#Gamma of 0.85\n",
    "class Parameters:\n",
    "\n",
    "    def __init__(self):\n",
    "                                 # Default values\n",
    "        self.buf_size = 5000     # 5000\n",
    "        self.batch = 256         # 256\n",
    "        self.epoch = 5           # 5\n",
    "        self.max_ep = 500        # 500\n",
    "        self.eps = 0.5           # 0.5\n",
    "        self.gamma = 0.85         # 0.9\n",
    "        self.C = 100             # 100\n",
    "        self.train_freq = 1      # 1\n",
    "        self.eval_freq = 10      # 10\n",
    "        self.net = [(128, 'relu'), (128, 'relu'), (2, 'relu')] # [(128, 'relu'), (128, 'relu'), (2, 'relu')]\n",
    "        self.lr = 0.0001         # 0.0001\n",
    "        self.opt = Optimizer.ADAM # Optimizer.ADAM"
   ]
  },
  {
   "cell_type": "code",
   "execution_count": null,
   "metadata": {
    "colab": {
     "base_uri": "https://localhost:8080/",
     "height": 910
    },
    "id": "0DPVL5_YKTu9",
    "outputId": "c89c38f9-c4dc-4932-b25c-b5bb69a806ff"
   },
   "outputs": [
    {
     "name": "stdout",
     "output_type": "stream",
     "text": [
      "WARNING:tensorflow:From /tensorflow-1.15.2/python3.7/tensorflow_core/python/ops/resource_variable_ops.py:1630: calling BaseResourceVariable.__init__ (from tensorflow.python.ops.resource_variable_ops) with constraint is deprecated and will be removed in a future version.\n",
      "Instructions for updating:\n",
      "If using Keras pass *_constraint arguments to layers.\n",
      "Initialization was finished.\n",
      "Training was started.\n",
      "WARNING:tensorflow:From /tensorflow-1.15.2/python3.7/keras/backend/tensorflow_backend.py:422: The name tf.global_variables is deprecated. Please use tf.compat.v1.global_variables instead.\n",
      "\n",
      "Episode Id: 10 Return during training: 10.0\n",
      "Episode Id: 20 Return during training: 9.0\n",
      "Episode Id: 30 Return during training: 14.0\n",
      "Episode Id: 40 Return during training: 9.0\n",
      "Episode Id: 50 Return during training: 11.0\n",
      "Episode Id: 60 Return during training: 9.0\n",
      "Episode Id: 70 Return during training: 10.0\n",
      "Episode Id: 80 Return during training: 47.0\n",
      "Episode Id: 90 Return during training: 35.0\n",
      "Episode Id: 100 Return during training: 185.0\n",
      "Episode Id: 110 Return during training: 76.0\n",
      "Episode Id: 120 Return during training: 98.0\n",
      "Episode Id: 130 Return during training: 78.0\n",
      "Episode Id: 140 Return during training: 112.0\n",
      "Episode Id: 150 Return during training: 129.0\n",
      "Episode Id: 160 Return during training: 151.0\n",
      "Episode Id: 170 Return during training: 39.0\n",
      "Episode Id: 180 Return during training: 198.0\n",
      "Episode Id: 190 Return during training: 83.0\n",
      "Episode Id: 200 Return during training: 33.0\n",
      "Episode Id: 210 Return during training: 103.0\n",
      "Episode Id: 220 Return during training: 56.0\n",
      "Episode Id: 230 Return during training: 187.0\n",
      "Episode Id: 240 Return during training: 76.0\n",
      "Episode Id: 250 Return during training: 144.0\n",
      "Episode Id: 260 Return during training: 59.0\n",
      "Episode Id: 270 Return during training: 197.0\n",
      "Episode Id: 280 Return during training: 76.0\n",
      "Training was finished.\n"
     ]
    },
    {
     "data": {
      "image/png": "[encoded data removed]",
      "text/plain": [
       "<Figure size 432x288 with 1 Axes>"
      ]
     },
     "metadata": {
      "needs_background": "light"
     },
     "output_type": "display_data"
    }
   ],
   "source": [
    "# Running the training and evaluation\n",
    "from tensorflow.keras import backend as be\n",
    "be.clear_session()\n",
    "pms = Parameters()\n",
    "dqn = Dqn(pms)\n",
    "ep_ids, returns = dqn.train_function()\n",
    "plt.plot(ep_ids, returns)\n",
    "dqn.evaluation(video=False)\n",
    "dqn.close()"
   ]
  },
  {
   "cell_type": "code",
   "execution_count": null,
   "metadata": {
    "id": "KUnKZHEoKir5"
   },
   "outputs": [],
   "source": [
    "#Gamma of 0.95\n",
    "class Parameters:\n",
    "\n",
    "    def __init__(self):\n",
    "                                 # Default values\n",
    "        self.buf_size = 5000     # 5000\n",
    "        self.batch = 256         # 256\n",
    "        self.epoch = 5           # 5\n",
    "        self.max_ep = 500        # 500\n",
    "        self.eps = 0.5           # 0.5\n",
    "        self.gamma = 0.95         # 0.9\n",
    "        self.C = 100             # 100\n",
    "        self.train_freq = 1      # 1\n",
    "        self.eval_freq = 10      # 10\n",
    "        self.net = [(128, 'relu'), (128, 'relu'), (2, 'relu')] # [(128, 'relu'), (128, 'relu'), (2, 'relu')]\n",
    "        self.lr = 0.0001         # 0.0001\n",
    "        self.opt = Optimizer.ADAM # Optimizer.ADAM"
   ]
  },
  {
   "cell_type": "code",
   "execution_count": null,
   "metadata": {
    "colab": {
     "base_uri": "https://localhost:8080/",
     "height": 805
    },
    "id": "iNlGTERZKjeK",
    "outputId": "9f35a561-cbde-4eb2-9c62-a34f9abddc32"
   },
   "outputs": [
    {
     "name": "stdout",
     "output_type": "stream",
     "text": [
      "WARNING:tensorflow:From /tensorflow-1.15.2/python3.7/tensorflow_core/python/ops/resource_variable_ops.py:1630: calling BaseResourceVariable.__init__ (from tensorflow.python.ops.resource_variable_ops) with constraint is deprecated and will be removed in a future version.\n",
      "Instructions for updating:\n",
      "If using Keras pass *_constraint arguments to layers.\n",
      "Initialization was finished.\n",
      "Training was started.\n",
      "WARNING:tensorflow:From /tensorflow-1.15.2/python3.7/keras/backend/tensorflow_backend.py:422: The name tf.global_variables is deprecated. Please use tf.compat.v1.global_variables instead.\n",
      "\n",
      "Episode Id: 10 Return during training: 10.0\n",
      "Episode Id: 20 Return during training: 14.0\n",
      "Episode Id: 30 Return during training: 11.0\n",
      "Episode Id: 40 Return during training: 10.0\n",
      "Episode Id: 50 Return during training: 9.0\n",
      "Episode Id: 60 Return during training: 10.0\n",
      "Episode Id: 70 Return during training: 9.0\n",
      "Episode Id: 80 Return during training: 12.0\n",
      "Episode Id: 90 Return during training: 16.0\n",
      "Episode Id: 100 Return during training: 23.0\n",
      "Episode Id: 110 Return during training: 19.0\n",
      "Episode Id: 120 Return during training: 18.0\n",
      "Episode Id: 130 Return during training: 17.0\n",
      "Episode Id: 140 Return during training: 19.0\n",
      "Episode Id: 150 Return during training: 18.0\n",
      "Episode Id: 160 Return during training: 17.0\n",
      "Episode Id: 170 Return during training: 27.0\n",
      "Episode Id: 180 Return during training: 37.0\n",
      "Episode Id: 190 Return during training: 77.0\n",
      "Episode Id: 200 Return during training: 200.0\n",
      "Episode Id: 210 Return during training: 96.0\n",
      "Episode Id: 220 Return during training: 200.0\n",
      "Training was finished.\n"
     ]
    },
    {
     "data": {
      "image/png": "[encoded data removed]",
      "text/plain": [
       "<Figure size 432x288 with 1 Axes>"
      ]
     },
     "metadata": {
      "needs_background": "light"
     },
     "output_type": "display_data"
    }
   ],
   "source": [
    "# Running the training and evaluation\n",
    "from tensorflow.keras import backend as be\n",
    "be.clear_session()\n",
    "pms = Parameters()\n",
    "dqn = Dqn(pms)\n",
    "ep_ids, returns = dqn.train_function()\n",
    "plt.plot(ep_ids, returns)\n",
    "dqn.evaluation(video=False)\n",
    "dqn.close()"
   ]
  },
  {
   "cell_type": "markdown",
   "metadata": {
    "id": "b-j2Jcq5Zdyk"
   },
   "source": [
    "## Summary for Gamma (Discounting Factor)\n",
    "\n",
    "Explored 0.85 and 0.95 values of gamma which are 0.05 higher and lower than the default value of 0.9 and rest of the parameters were kept the same as default. In both the above mentioned cases the DQN system converges. In case of gamma = 0.85 the system takes more than 300 episodes to converge which is higher than both the default value of 0.9 which takes around 190 episode and the other explored value of 0.95. In case of gamma = 0.95 the system converges quite quickly in around 200 episodes and further the convergence of the system is much smoother than 0.9 and 0.85. Where as in the case of gamma = 0.85 the convergence is very erratic as seen in the plot. Hence, it seems like higher the value of gamma smoother and faster the convergence."
   ]
  },
  {
   "cell_type": "markdown",
   "metadata": {
    "id": "gsNawOnAbQgG"
   },
   "source": [
    "## Exploring Optimizers.\n",
    "\n",
    "These are the optimizers for the deep neural network."
   ]
  },
  {
   "cell_type": "code",
   "execution_count": null,
   "metadata": {
    "id": "VP8enLgkQQ-K"
   },
   "outputs": [],
   "source": [
    "#Optimizer = SGD\n",
    "class Parameters:\n",
    "\n",
    "    def __init__(self):\n",
    "                                 # Default values\n",
    "        self.buf_size = 5000     # 5000\n",
    "        self.batch = 256         # 256\n",
    "        self.epoch = 5           # 5\n",
    "        self.max_ep = 500        # 500\n",
    "        self.eps = 0.5           # 0.5\n",
    "        self.gamma = 0.9         # 0.9\n",
    "        self.C = 100             # 100\n",
    "        self.train_freq = 1      # 1\n",
    "        self.eval_freq = 10      # 10\n",
    "        self.net = [(128, 'relu'), (128, 'relu'), (2, 'relu')] # [(128, 'relu'), (128, 'relu'), (2, 'relu')]\n",
    "        self.lr = 0.0001         # 0.0001\n",
    "        self.opt = Optimizer.SGD # Optimizer.ADAM"
   ]
  },
  {
   "cell_type": "code",
   "execution_count": null,
   "metadata": {
    "colab": {
     "base_uri": "https://localhost:8080/",
     "height": 1000
    },
    "id": "M8E5d6WzVUIT",
    "outputId": "8936123c-ccbb-4429-b9b4-acd10a209999"
   },
   "outputs": [
    {
     "name": "stdout",
     "output_type": "stream",
     "text": [
      "WARNING:tensorflow:From /tensorflow-1.15.2/python3.7/tensorflow_core/python/ops/resource_variable_ops.py:1630: calling BaseResourceVariable.__init__ (from tensorflow.python.ops.resource_variable_ops) with constraint is deprecated and will be removed in a future version.\n",
      "Instructions for updating:\n",
      "If using Keras pass *_constraint arguments to layers.\n",
      "Initialization was finished.\n",
      "Training was started.\n",
      "WARNING:tensorflow:From /tensorflow-1.15.2/python3.7/keras/backend/tensorflow_backend.py:422: The name tf.global_variables is deprecated. Please use tf.compat.v1.global_variables instead.\n",
      "\n",
      "Episode Id: 10 Return during training: 15.0\n",
      "Episode Id: 20 Return during training: 12.0\n",
      "Episode Id: 30 Return during training: 9.0\n",
      "Episode Id: 40 Return during training: 12.0\n",
      "Episode Id: 50 Return during training: 8.0\n",
      "Episode Id: 60 Return during training: 12.0\n",
      "Episode Id: 70 Return during training: 9.0\n",
      "Episode Id: 80 Return during training: 10.0\n",
      "Episode Id: 90 Return during training: 11.0\n",
      "Episode Id: 100 Return during training: 10.0\n",
      "Episode Id: 110 Return during training: 9.0\n",
      "Episode Id: 120 Return during training: 9.0\n",
      "Episode Id: 130 Return during training: 10.0\n",
      "Episode Id: 140 Return during training: 8.0\n",
      "Episode Id: 150 Return during training: 11.0\n",
      "Episode Id: 160 Return during training: 9.0\n",
      "Episode Id: 170 Return during training: 10.0\n",
      "Episode Id: 180 Return during training: 10.0\n",
      "Episode Id: 190 Return during training: 9.0\n",
      "Episode Id: 200 Return during training: 9.0\n",
      "Episode Id: 210 Return during training: 11.0\n",
      "Episode Id: 220 Return during training: 10.0\n",
      "Episode Id: 230 Return during training: 9.0\n",
      "Episode Id: 240 Return during training: 10.0\n",
      "Episode Id: 250 Return during training: 11.0\n",
      "Episode Id: 260 Return during training: 9.0\n",
      "Episode Id: 270 Return during training: 10.0\n",
      "Episode Id: 280 Return during training: 10.0\n",
      "Episode Id: 290 Return during training: 10.0\n",
      "Episode Id: 300 Return during training: 10.0\n",
      "Episode Id: 310 Return during training: 9.0\n",
      "Episode Id: 320 Return during training: 9.0\n",
      "Episode Id: 330 Return during training: 8.0\n",
      "Episode Id: 340 Return during training: 9.0\n",
      "Episode Id: 350 Return during training: 9.0\n",
      "Episode Id: 360 Return during training: 8.0\n",
      "Episode Id: 370 Return during training: 9.0\n",
      "Episode Id: 380 Return during training: 11.0\n",
      "Episode Id: 390 Return during training: 10.0\n",
      "Episode Id: 400 Return during training: 10.0\n",
      "Episode Id: 410 Return during training: 12.0\n",
      "Episode Id: 420 Return during training: 11.0\n",
      "Episode Id: 430 Return during training: 9.0\n",
      "Episode Id: 440 Return during training: 10.0\n",
      "Episode Id: 450 Return during training: 10.0\n",
      "Episode Id: 460 Return during training: 10.0\n",
      "Episode Id: 470 Return during training: 9.0\n",
      "Episode Id: 480 Return during training: 9.0\n",
      "Episode Id: 490 Return during training: 9.0\n",
      "Training was finished.\n"
     ]
    },
    {
     "data": {
      "image/png": "[encoded data removed]",
      "text/plain": [
       "<Figure size 432x288 with 1 Axes>"
      ]
     },
     "metadata": {
      "needs_background": "light"
     },
     "output_type": "display_data"
    }
   ],
   "source": [
    "# Running the training and evaluation\n",
    "from tensorflow.keras import backend as be\n",
    "be.clear_session()\n",
    "pms = Parameters()\n",
    "dqn = Dqn(pms)\n",
    "ep_ids, returns = dqn.train_function()\n",
    "plt.plot(ep_ids, returns)\n",
    "dqn.evaluation(video=False)\n",
    "dqn.close()"
   ]
  },
  {
   "cell_type": "code",
   "execution_count": null,
   "metadata": {
    "id": "3BUW0J50VcLr"
   },
   "outputs": [],
   "source": [
    "#Optimizer\n",
    "class Parameters:\n",
    "\n",
    "    def __init__(self):\n",
    "                                 # Default values\n",
    "        self.buf_size = 5000     # 5000\n",
    "        self.batch = 256         # 256\n",
    "        self.epoch = 5           # 5\n",
    "        self.max_ep = 500        # 500\n",
    "        self.eps = 0.5           # 0.5\n",
    "        self.gamma = 0.9         # 0.9\n",
    "        self.C = 100             # 100\n",
    "        self.train_freq = 1      # 1\n",
    "        self.eval_freq = 10      # 10\n",
    "        self.net = [(128, 'relu'), (128, 'relu'), (2, 'relu')] # [(128, 'relu'), (128, 'relu'), (2, 'relu')]\n",
    "        self.lr = 0.0001         # 0.0001\n",
    "        self.opt = Optimizer.RMSPROP # Optimizer.ADAM"
   ]
  },
  {
   "cell_type": "code",
   "execution_count": null,
   "metadata": {
    "colab": {
     "base_uri": "https://localhost:8080/",
     "height": 877
    },
    "id": "ng8ubczkVdmD",
    "outputId": "b4207e6f-a597-4cd6-f6e1-8bb5db397f61"
   },
   "outputs": [
    {
     "name": "stdout",
     "output_type": "stream",
     "text": [
      "WARNING:tensorflow:From /tensorflow-1.15.2/python3.7/tensorflow_core/python/ops/resource_variable_ops.py:1630: calling BaseResourceVariable.__init__ (from tensorflow.python.ops.resource_variable_ops) with constraint is deprecated and will be removed in a future version.\n",
      "Instructions for updating:\n",
      "If using Keras pass *_constraint arguments to layers.\n",
      "Initialization was finished.\n",
      "Training was started.\n",
      "WARNING:tensorflow:From /tensorflow-1.15.2/python3.7/keras/backend/tensorflow_backend.py:422: The name tf.global_variables is deprecated. Please use tf.compat.v1.global_variables instead.\n",
      "\n",
      "Episode Id: 10 Return during training: 13.0\n",
      "Episode Id: 20 Return during training: 17.0\n",
      "Episode Id: 30 Return during training: 14.0\n",
      "Episode Id: 40 Return during training: 13.0\n",
      "Episode Id: 50 Return during training: 30.0\n",
      "Episode Id: 60 Return during training: 27.0\n",
      "Episode Id: 70 Return during training: 54.0\n",
      "Episode Id: 80 Return during training: 39.0\n",
      "Episode Id: 90 Return during training: 53.0\n",
      "Episode Id: 100 Return during training: 57.0\n",
      "Episode Id: 110 Return during training: 87.0\n",
      "Episode Id: 120 Return during training: 84.0\n",
      "Episode Id: 130 Return during training: 93.0\n",
      "Episode Id: 140 Return during training: 134.0\n",
      "Episode Id: 150 Return during training: 29.0\n",
      "Episode Id: 160 Return during training: 158.0\n",
      "Episode Id: 170 Return during training: 136.0\n",
      "Episode Id: 180 Return during training: 132.0\n",
      "Episode Id: 190 Return during training: 135.0\n",
      "Episode Id: 200 Return during training: 165.0\n",
      "Episode Id: 210 Return during training: 156.0\n",
      "Episode Id: 220 Return during training: 120.0\n",
      "Episode Id: 230 Return during training: 151.0\n",
      "Episode Id: 240 Return during training: 163.0\n",
      "Episode Id: 250 Return during training: 115.0\n",
      "Episode Id: 260 Return during training: 176.0\n",
      "Training was finished.\n"
     ]
    },
    {
     "data": {
      "image/png": "[encoded data removed]",
      "text/plain": [
       "<Figure size 432x288 with 1 Axes>"
      ]
     },
     "metadata": {
      "needs_background": "light"
     },
     "output_type": "display_data"
    }
   ],
   "source": [
    "# Running the training and evaluation\n",
    "from tensorflow.keras import backend as be\n",
    "be.clear_session()\n",
    "pms = Parameters()\n",
    "dqn = Dqn(pms)\n",
    "ep_ids, returns = dqn.train_function()\n",
    "plt.plot(ep_ids, returns)\n",
    "dqn.evaluation(video=False)\n",
    "dqn.close()"
   ]
  },
  {
   "cell_type": "markdown",
   "metadata": {
    "id": "xStEOf0NbiA_"
   },
   "source": [
    "## Summary for Optimizers\n",
    "\n",
    "I tried 2 other optimizers RMSprop and SGD with other parameters as the default values. In case of RMSprop the DQN system converged and the system learned consistently and convereged to the optimal value of the return, But, in the case of SGD and default values of the rest of the parameters the system is not able to learn a lot and is not converging with just 500 episodes probably we need to explore this a bit more. Currently adam seem to be the best optimizer for this."
   ]
  },
  {
   "cell_type": "markdown",
   "metadata": {
    "id": "qLL9NWR1cUJ7"
   },
   "source": [
    "## Exploration : Learning Rate\n",
    "Learning Rate of the Deep Neural Network"
   ]
  },
  {
   "cell_type": "code",
   "execution_count": null,
   "metadata": {
    "id": "0e8bDZUYZBKY"
   },
   "outputs": [],
   "source": [
    "#Learning Rate = 0.001\n",
    "class Parameters:\n",
    "\n",
    "    def __init__(self):\n",
    "                                 # Default values\n",
    "        self.buf_size = 5000     # 5000\n",
    "        self.batch = 256         # 256\n",
    "        self.epoch = 5           # 5\n",
    "        self.max_ep = 500        # 500\n",
    "        self.eps = 0.5           # 0.5\n",
    "        self.gamma = 0.9         # 0.9\n",
    "        self.C = 100             # 100\n",
    "        self.train_freq = 1      # 1\n",
    "        self.eval_freq = 10      # 10\n",
    "        self.net = [(128, 'relu'), (128, 'relu'), (2, 'relu')] # [(128, 'relu'), (128, 'relu'), (2, 'relu')]\n",
    "        self.lr = 0.001         # 0.0001\n",
    "        self.opt = Optimizer.ADAM # Optimizer.ADAM"
   ]
  },
  {
   "cell_type": "code",
   "execution_count": null,
   "metadata": {
    "colab": {
     "base_uri": "https://localhost:8080/",
     "height": 632
    },
    "id": "OBPT1PSoeMEr",
    "outputId": "d56a86d4-6089-4306-e972-135214b6dd2c"
   },
   "outputs": [
    {
     "name": "stdout",
     "output_type": "stream",
     "text": [
      "WARNING:tensorflow:From /tensorflow-1.15.2/python3.7/tensorflow_core/python/ops/resource_variable_ops.py:1630: calling BaseResourceVariable.__init__ (from tensorflow.python.ops.resource_variable_ops) with constraint is deprecated and will be removed in a future version.\n",
      "Instructions for updating:\n",
      "If using Keras pass *_constraint arguments to layers.\n",
      "Initialization was finished.\n",
      "Training was started.\n",
      "WARNING:tensorflow:From /tensorflow-1.15.2/python3.7/keras/backend/tensorflow_backend.py:422: The name tf.global_variables is deprecated. Please use tf.compat.v1.global_variables instead.\n",
      "\n",
      "Episode Id: 10 Return during training: 20.0\n",
      "Episode Id: 20 Return during training: 27.0\n",
      "Episode Id: 30 Return during training: 76.0\n",
      "Episode Id: 40 Return during training: 67.0\n",
      "Episode Id: 50 Return during training: 120.0\n",
      "Episode Id: 60 Return during training: 129.0\n",
      "Episode Id: 70 Return during training: 16.0\n",
      "Episode Id: 80 Return during training: 50.0\n",
      "Episode Id: 90 Return during training: 57.0\n",
      "Episode Id: 100 Return during training: 90.0\n",
      "Episode Id: 110 Return during training: 200.0\n",
      "Episode Id: 120 Return during training: 119.0\n",
      "Training was finished.\n"
     ]
    },
    {
     "data": {
      "image/png": "[encoded data removed]",
      "text/plain": [
       "<Figure size 432x288 with 1 Axes>"
      ]
     },
     "metadata": {
      "needs_background": "light"
     },
     "output_type": "display_data"
    }
   ],
   "source": [
    "# Running the training and evaluation\n",
    "from tensorflow.keras import backend as be\n",
    "be.clear_session()\n",
    "pms = Parameters()\n",
    "dqn = Dqn(pms)\n",
    "ep_ids, returns = dqn.train_function()\n",
    "plt.plot(ep_ids, returns)\n",
    "dqn.evaluation(video=False)\n",
    "dqn.close()"
   ]
  },
  {
   "cell_type": "code",
   "execution_count": null,
   "metadata": {
    "id": "WCVK1RfNeP7u"
   },
   "outputs": [],
   "source": [
    "#Learning Rate = 0.01\n",
    "class Parameters:\n",
    "\n",
    "    def __init__(self):\n",
    "                                 # Default values\n",
    "        self.buf_size = 5000     # 5000\n",
    "        self.batch = 256         # 256\n",
    "        self.epoch = 5           # 5\n",
    "        self.max_ep = 500        # 500\n",
    "        self.eps = 0.5           # 0.5\n",
    "        self.gamma = 0.9         # 0.9\n",
    "        self.C = 100             # 100\n",
    "        self.train_freq = 1      # 1\n",
    "        self.eval_freq = 10      # 10\n",
    "        self.net = [(128, 'relu'), (128, 'relu'), (2, 'relu')] # [(128, 'relu'), (128, 'relu'), (2, 'relu')]\n",
    "        self.lr = 0.01         # 0.0001\n",
    "        self.opt = Optimizer.ADAM # Optimizer.ADAM"
   ]
  },
  {
   "cell_type": "code",
   "execution_count": null,
   "metadata": {
    "colab": {
     "base_uri": "https://localhost:8080/",
     "height": 632
    },
    "id": "TD-05t22eUac",
    "outputId": "6b0aead9-eb9b-4aad-e654-0ea9bdd9a93a"
   },
   "outputs": [
    {
     "name": "stdout",
     "output_type": "stream",
     "text": [
      "WARNING:tensorflow:From /tensorflow-1.15.2/python3.7/tensorflow_core/python/ops/resource_variable_ops.py:1630: calling BaseResourceVariable.__init__ (from tensorflow.python.ops.resource_variable_ops) with constraint is deprecated and will be removed in a future version.\n",
      "Instructions for updating:\n",
      "If using Keras pass *_constraint arguments to layers.\n",
      "Initialization was finished.\n",
      "Training was started.\n",
      "WARNING:tensorflow:From /tensorflow-1.15.2/python3.7/keras/backend/tensorflow_backend.py:422: The name tf.global_variables is deprecated. Please use tf.compat.v1.global_variables instead.\n",
      "\n",
      "Episode Id: 10 Return during training: 23.0\n",
      "Episode Id: 20 Return during training: 10.0\n",
      "Episode Id: 30 Return during training: 11.0\n",
      "Episode Id: 40 Return during training: 10.0\n",
      "Episode Id: 50 Return during training: 23.0\n",
      "Episode Id: 60 Return during training: 10.0\n",
      "Episode Id: 70 Return during training: 11.0\n",
      "Episode Id: 80 Return during training: 9.0\n",
      "Episode Id: 90 Return during training: 10.0\n",
      "Episode Id: 100 Return during training: 11.0\n",
      "Episode Id: 110 Return during training: 19.0\n",
      "Episode Id: 120 Return during training: 40.0\n",
      "Training was finished.\n"
     ]
    },
    {
     "data": {
      "image/png": "[encoded data removed]",
      "text/plain": [
       "<Figure size 432x288 with 1 Axes>"
      ]
     },
     "metadata": {
      "needs_background": "light"
     },
     "output_type": "display_data"
    }
   ],
   "source": [
    "# Running the training and evaluation\n",
    "from tensorflow.keras import backend as be\n",
    "be.clear_session()\n",
    "pms = Parameters()\n",
    "dqn = Dqn(pms)\n",
    "ep_ids, returns = dqn.train_function()\n",
    "plt.plot(ep_ids, returns)\n",
    "dqn.evaluation(video=False)\n",
    "dqn.close()"
   ]
  },
  {
   "cell_type": "code",
   "execution_count": null,
   "metadata": {
    "id": "mO9Y5vi3gMsj"
   },
   "outputs": [],
   "source": [
    "#Learning Rate = 0.00005\n",
    "class Parameters:\n",
    "\n",
    "    def __init__(self):\n",
    "                                 # Default values\n",
    "        self.buf_size = 5000     # 5000\n",
    "        self.batch = 256         # 256\n",
    "        self.epoch = 5           # 5\n",
    "        self.max_ep = 500        # 500\n",
    "        self.eps = 0.5           # 0.5\n",
    "        self.gamma = 0.9         # 0.9\n",
    "        self.C = 100             # 100\n",
    "        self.train_freq = 1      # 1\n",
    "        self.eval_freq = 10      # 10\n",
    "        self.net = [(128, 'relu'), (128, 'relu'), (2, 'relu')] # [(128, 'relu'), (128, 'relu'), (2, 'relu')]\n",
    "        self.lr = 0.00005         # 0.0001\n",
    "        self.opt = Optimizer.ADAM # Optimizer.ADAM"
   ]
  },
  {
   "cell_type": "code",
   "execution_count": null,
   "metadata": {
    "colab": {
     "base_uri": "https://localhost:8080/",
     "height": 927
    },
    "id": "A689vMXBgUB4",
    "outputId": "b197bf66-70ae-4fa8-b10b-acabf14a8a38"
   },
   "outputs": [
    {
     "name": "stdout",
     "output_type": "stream",
     "text": [
      "WARNING:tensorflow:From /tensorflow-1.15.2/python3.7/tensorflow_core/python/ops/resource_variable_ops.py:1630: calling BaseResourceVariable.__init__ (from tensorflow.python.ops.resource_variable_ops) with constraint is deprecated and will be removed in a future version.\n",
      "Instructions for updating:\n",
      "If using Keras pass *_constraint arguments to layers.\n",
      "Initialization was finished.\n",
      "Training was started.\n",
      "WARNING:tensorflow:From /tensorflow-1.15.2/python3.7/keras/backend/tensorflow_backend.py:422: The name tf.global_variables is deprecated. Please use tf.compat.v1.global_variables instead.\n",
      "\n",
      "Episode Id: 10 Return during training: 10.0\n",
      "Episode Id: 20 Return during training: 10.0\n",
      "Episode Id: 30 Return during training: 8.0\n",
      "Episode Id: 40 Return during training: 10.0\n",
      "Episode Id: 50 Return during training: 9.0\n",
      "Episode Id: 60 Return during training: 10.0\n",
      "Episode Id: 70 Return during training: 11.0\n",
      "Episode Id: 80 Return during training: 11.0\n",
      "Episode Id: 90 Return during training: 10.0\n",
      "Episode Id: 100 Return during training: 10.0\n",
      "Episode Id: 110 Return during training: 10.0\n",
      "Episode Id: 120 Return during training: 15.0\n",
      "Episode Id: 130 Return during training: 9.0\n",
      "Episode Id: 140 Return during training: 10.0\n",
      "Episode Id: 150 Return during training: 12.0\n",
      "Episode Id: 160 Return during training: 61.0\n",
      "Episode Id: 170 Return during training: 34.0\n",
      "Episode Id: 180 Return during training: 88.0\n",
      "Episode Id: 190 Return during training: 88.0\n",
      "Episode Id: 200 Return during training: 164.0\n",
      "Episode Id: 210 Return during training: 123.0\n",
      "Episode Id: 220 Return during training: 125.0\n",
      "Episode Id: 230 Return during training: 148.0\n",
      "Episode Id: 240 Return during training: 136.0\n",
      "Episode Id: 250 Return during training: 115.0\n",
      "Episode Id: 260 Return during training: 90.0\n",
      "Episode Id: 270 Return during training: 120.0\n",
      "Episode Id: 280 Return during training: 132.0\n",
      "Episode Id: 290 Return during training: 127.0\n",
      "Training was finished.\n"
     ]
    },
    {
     "data": {
      "image/png": "[encoded data removed]",
      "text/plain": [
       "<Figure size 432x288 with 1 Axes>"
      ]
     },
     "metadata": {
      "needs_background": "light"
     },
     "output_type": "display_data"
    }
   ],
   "source": [
    "# Running the training and evaluation\n",
    "from tensorflow.keras import backend as be\n",
    "be.clear_session()\n",
    "pms = Parameters()\n",
    "dqn = Dqn(pms)\n",
    "ep_ids, returns = dqn.train_function()\n",
    "plt.plot(ep_ids, returns)\n",
    "dqn.evaluation(video=False)\n",
    "dqn.close()"
   ]
  },
  {
   "cell_type": "markdown",
   "metadata": {
    "id": "D1lz3qkxck6j"
   },
   "source": [
    "## Summary for Learning Rates\n",
    "I tried multiple learning rates and kept all the other parameters of the DQN system as default. I explored learning rates both higher and lower than the default values. The Learning rates which were higher than default (lr = 0.0001) were 0.01, 0.001 and learning rate lower than default was 0.00005. In all the cases the DQN converged. The interesting thing was that in learning rates which were higher than default 0.01 and 0.001 converged quickly with around 130 episodes and with lower learning rate of 0.00005 it took around 300 episodes to converge which was more than default (lr = 0.0001) case which was around 190 episodes. Hence it seems the optimal learning rate for the system is around 0.001 which is way higher than the default value."
   ]
  },
  {
   "cell_type": "markdown",
   "metadata": {
    "id": "YYNnF4WCdaer"
   },
   "source": [
    "## Exploring Different Values of C (Frequency of Synchronizing)"
   ]
  },
  {
   "cell_type": "code",
   "execution_count": null,
   "metadata": {
    "id": "gdScLBRlhaFo"
   },
   "outputs": [],
   "source": [
    "#C = 150\n",
    "class Parameters:\n",
    "\n",
    "    def __init__(self):\n",
    "                                 # Default values\n",
    "        self.buf_size = 5000     # 5000\n",
    "        self.batch = 256         # 256\n",
    "        self.epoch = 5           # 5\n",
    "        self.max_ep = 500        # 500\n",
    "        self.eps = 0.5           # 0.5\n",
    "        self.gamma = 0.9         # 0.9\n",
    "        self.C = 150             # 100\n",
    "        self.train_freq = 1      # 1\n",
    "        self.eval_freq = 10      # 10\n",
    "        self.net = [(128, 'relu'), (128, 'relu'), (2, 'relu')] # [(128, 'relu'), (128, 'relu'), (2, 'relu')]\n",
    "        self.lr = 0.0001         # 0.0001\n",
    "        self.opt = Optimizer.ADAM # Optimizer.ADAM"
   ]
  },
  {
   "cell_type": "code",
   "execution_count": null,
   "metadata": {
    "colab": {
     "base_uri": "https://localhost:8080/",
     "height": 736
    },
    "id": "2pLEBRsQhidR",
    "outputId": "041e0a10-9f1e-4ace-fccd-63245d411461"
   },
   "outputs": [
    {
     "name": "stdout",
     "output_type": "stream",
     "text": [
      "WARNING:tensorflow:From /tensorflow-1.15.2/python3.7/tensorflow_core/python/ops/resource_variable_ops.py:1630: calling BaseResourceVariable.__init__ (from tensorflow.python.ops.resource_variable_ops) with constraint is deprecated and will be removed in a future version.\n",
      "Instructions for updating:\n",
      "If using Keras pass *_constraint arguments to layers.\n",
      "Initialization was finished.\n",
      "Training was started.\n",
      "WARNING:tensorflow:From /tensorflow-1.15.2/python3.7/keras/backend/tensorflow_backend.py:422: The name tf.global_variables is deprecated. Please use tf.compat.v1.global_variables instead.\n",
      "\n",
      "Episode Id: 10 Return during training: 21.0\n",
      "Episode Id: 20 Return during training: 10.0\n",
      "Episode Id: 30 Return during training: 8.0\n",
      "Episode Id: 40 Return during training: 10.0\n",
      "Episode Id: 50 Return during training: 12.0\n",
      "Episode Id: 60 Return during training: 11.0\n",
      "Episode Id: 70 Return during training: 11.0\n",
      "Episode Id: 80 Return during training: 16.0\n",
      "Episode Id: 90 Return during training: 32.0\n",
      "Episode Id: 100 Return during training: 31.0\n",
      "Episode Id: 110 Return during training: 36.0\n",
      "Episode Id: 120 Return during training: 51.0\n",
      "Episode Id: 130 Return during training: 73.0\n",
      "Episode Id: 140 Return during training: 90.0\n",
      "Episode Id: 150 Return during training: 113.0\n",
      "Episode Id: 160 Return during training: 119.0\n",
      "Episode Id: 170 Return during training: 69.0\n",
      "Episode Id: 180 Return during training: 39.0\n",
      "Training was finished.\n"
     ]
    },
    {
     "data": {
      "image/png": "[encoded data removed]",
      "text/plain": [
       "<Figure size 432x288 with 1 Axes>"
      ]
     },
     "metadata": {
      "needs_background": "light"
     },
     "output_type": "display_data"
    }
   ],
   "source": [
    "# Running the training and evaluation\n",
    "from tensorflow.keras import backend as be\n",
    "be.clear_session()\n",
    "pms = Parameters()\n",
    "dqn = Dqn(pms)\n",
    "ep_ids, returns = dqn.train_function()\n",
    "plt.plot(ep_ids, returns)\n",
    "dqn.evaluation(video=False)\n",
    "dqn.close()"
   ]
  },
  {
   "cell_type": "code",
   "execution_count": null,
   "metadata": {
    "id": "T7DDAHjAhkdd"
   },
   "outputs": [],
   "source": [
    "#C = 50\n",
    "class Parameters:\n",
    "\n",
    "    def __init__(self):\n",
    "                                 # Default values\n",
    "        self.buf_size = 5000     # 5000\n",
    "        self.batch = 256         # 256\n",
    "        self.epoch = 5           # 5\n",
    "        self.max_ep = 500        # 500\n",
    "        self.eps = 0.5           # 0.5\n",
    "        self.gamma = 0.9         # 0.9\n",
    "        self.C = 50             # 100\n",
    "        self.train_freq = 1      # 1\n",
    "        self.eval_freq = 10      # 10\n",
    "        self.net = [(128, 'relu'), (128, 'relu'), (2, 'relu')] # [(128, 'relu'), (128, 'relu'), (2, 'relu')]\n",
    "        self.lr = 0.0001         # 0.0001\n",
    "        self.opt = Optimizer.ADAM # Optimizer.ADAM"
   ]
  },
  {
   "cell_type": "code",
   "execution_count": null,
   "metadata": {
    "colab": {
     "base_uri": "https://localhost:8080/",
     "height": 875
    },
    "id": "2bnf05g4hqzN",
    "outputId": "4b3667d4-1a7c-4dbd-8731-b92ab2983f75"
   },
   "outputs": [
    {
     "name": "stdout",
     "output_type": "stream",
     "text": [
      "WARNING:tensorflow:From /tensorflow-1.15.2/python3.7/tensorflow_core/python/ops/resource_variable_ops.py:1630: calling BaseResourceVariable.__init__ (from tensorflow.python.ops.resource_variable_ops) with constraint is deprecated and will be removed in a future version.\n",
      "Instructions for updating:\n",
      "If using Keras pass *_constraint arguments to layers.\n",
      "Initialization was finished.\n",
      "Training was started.\n",
      "WARNING:tensorflow:From /tensorflow-1.15.2/python3.7/keras/backend/tensorflow_backend.py:422: The name tf.global_variables is deprecated. Please use tf.compat.v1.global_variables instead.\n",
      "\n",
      "Episode Id: 10 Return during training: 10.0\n",
      "Episode Id: 20 Return during training: 13.0\n",
      "Episode Id: 30 Return during training: 10.0\n",
      "Episode Id: 40 Return during training: 8.0\n",
      "Episode Id: 50 Return during training: 11.0\n",
      "Episode Id: 60 Return during training: 11.0\n",
      "Episode Id: 70 Return during training: 14.0\n",
      "Episode Id: 80 Return during training: 25.0\n",
      "Episode Id: 90 Return during training: 60.0\n",
      "Episode Id: 100 Return during training: 35.0\n",
      "Episode Id: 110 Return during training: 101.0\n",
      "Episode Id: 120 Return during training: 76.0\n",
      "Episode Id: 130 Return during training: 117.0\n",
      "Episode Id: 140 Return during training: 42.0\n",
      "Episode Id: 150 Return during training: 140.0\n",
      "Episode Id: 160 Return during training: 29.0\n",
      "Episode Id: 170 Return during training: 123.0\n",
      "Episode Id: 180 Return during training: 180.0\n",
      "Episode Id: 190 Return during training: 27.0\n",
      "Episode Id: 200 Return during training: 152.0\n",
      "Episode Id: 210 Return during training: 154.0\n",
      "Episode Id: 220 Return during training: 111.0\n",
      "Episode Id: 230 Return during training: 36.0\n",
      "Episode Id: 240 Return during training: 39.0\n",
      "Episode Id: 250 Return during training: 42.0\n",
      "Episode Id: 260 Return during training: 96.0\n",
      "Training was finished.\n"
     ]
    },
    {
     "data": {
      "image/png": "[encoded data removed]",
      "text/plain": [
       "<Figure size 432x288 with 1 Axes>"
      ]
     },
     "metadata": {
      "needs_background": "light"
     },
     "output_type": "display_data"
    }
   ],
   "source": [
    "# Running the training and evaluation\n",
    "from tensorflow.keras import backend as be\n",
    "be.clear_session()\n",
    "pms = Parameters()\n",
    "dqn = Dqn(pms)\n",
    "ep_ids, returns = dqn.train_function()\n",
    "plt.plot(ep_ids, returns)\n",
    "dqn.evaluation(video=False)\n",
    "dqn.close()"
   ]
  },
  {
   "cell_type": "markdown",
   "metadata": {
    "id": "igt3ZsbpdnnA"
   },
   "source": [
    "## Summary for Frequency of Synchronizing\n",
    "\n",
    "In this I tried values of C = 50 and 150 both 50 lower and higher than the default value of 100.Rest of the parameters were kept as default. In both the cases the DQN system converged. In the case of C = 150 the system converges around the same time as default value system as it takes around 190 episodes . In case of C = 50 the system takes around 270 episodes and the return during training is very erratic as well. Hence, it seems like the default value of C is optimal. "
   ]
  },
  {
   "cell_type": "markdown",
   "metadata": {
    "id": "Xvh47DLfa507"
   },
   "source": [
    "## Exploration : Epsilion"
   ]
  },
  {
   "cell_type": "code",
   "execution_count": null,
   "metadata": {
    "id": "1LktrLNzn4i8"
   },
   "outputs": [],
   "source": [
    "#epsilon = 0.8\n",
    "class Parameters:\n",
    "\n",
    "    def __init__(self):\n",
    "                                 # Default values\n",
    "        self.buf_size = 5000     # 5000\n",
    "        self.batch = 256         # 256\n",
    "        self.epoch = 5           # 5\n",
    "        self.max_ep = 500        # 500\n",
    "        self.eps = 0.8           # 0.5\n",
    "        self.gamma = 0.9         # 0.9\n",
    "        self.C = 100             # 100\n",
    "        self.train_freq = 1      # 1\n",
    "        self.eval_freq = 10      # 10\n",
    "        self.net = [(128, 'relu'), (128, 'relu'), (2, 'relu')] # [(128, 'relu'), (128, 'relu'), (2, 'relu')]\n",
    "        self.lr = 0.0001         # 0.0001\n",
    "        self.opt = Optimizer.ADAM # Optimizer.ADAM"
   ]
  },
  {
   "cell_type": "code",
   "execution_count": null,
   "metadata": {
    "colab": {
     "base_uri": "https://localhost:8080/",
     "height": 649
    },
    "id": "4Qt8pvE32pXN",
    "outputId": "91246c09-dca5-47dc-bc1c-8697f5798380"
   },
   "outputs": [
    {
     "name": "stdout",
     "output_type": "stream",
     "text": [
      "WARNING:tensorflow:From /tensorflow-1.15.2/python3.7/tensorflow_core/python/ops/resource_variable_ops.py:1630: calling BaseResourceVariable.__init__ (from tensorflow.python.ops.resource_variable_ops) with constraint is deprecated and will be removed in a future version.\n",
      "Instructions for updating:\n",
      "If using Keras pass *_constraint arguments to layers.\n",
      "Initialization was finished.\n",
      "Training was started.\n",
      "WARNING:tensorflow:From /tensorflow-1.15.2/python3.7/keras/backend/tensorflow_backend.py:422: The name tf.global_variables is deprecated. Please use tf.compat.v1.global_variables instead.\n",
      "\n",
      "Episode Id: 10 Return during training: 14.0\n",
      "Episode Id: 20 Return during training: 26.0\n",
      "Episode Id: 30 Return during training: 14.0\n",
      "Episode Id: 40 Return during training: 11.0\n",
      "Episode Id: 50 Return during training: 8.0\n",
      "Episode Id: 60 Return during training: 12.0\n",
      "Episode Id: 70 Return during training: 38.0\n",
      "Episode Id: 80 Return during training: 100.0\n",
      "Episode Id: 90 Return during training: 151.0\n",
      "Episode Id: 100 Return during training: 200.0\n",
      "Episode Id: 110 Return during training: 143.0\n",
      "Episode Id: 120 Return during training: 170.0\n",
      "Episode Id: 130 Return during training: 27.0\n",
      "Training was finished.\n"
     ]
    },
    {
     "data": {
      "image/png": "[encoded data removed]",
      "text/plain": [
       "<Figure size 432x288 with 1 Axes>"
      ]
     },
     "metadata": {
      "needs_background": "light"
     },
     "output_type": "display_data"
    }
   ],
   "source": [
    "# Running the training and evaluation\n",
    "from tensorflow.keras import backend as be\n",
    "be.clear_session()\n",
    "pms = Parameters()\n",
    "dqn = Dqn(pms)\n",
    "ep_ids, returns = dqn.train_function()\n",
    "plt.plot(ep_ids, returns)\n",
    "dqn.evaluation(video=False)\n",
    "dqn.close()"
   ]
  },
  {
   "cell_type": "code",
   "execution_count": null,
   "metadata": {
    "id": "maFBVcV7bNxa"
   },
   "outputs": [],
   "source": [
    "#epsilon = 0.3\n",
    "class Parameters:\n",
    "\n",
    "    def __init__(self):\n",
    "                                 # Default values\n",
    "        self.buf_size = 5000     # 5000\n",
    "        self.batch = 256         # 256\n",
    "        self.epoch = 5           # 5\n",
    "        self.max_ep = 500        # 500\n",
    "        self.eps = 0.3           # 0.5\n",
    "        self.gamma = 0.9         # 0.9\n",
    "        self.C = 100             # 100\n",
    "        self.train_freq = 1      # 1\n",
    "        self.eval_freq = 10      # 10\n",
    "        self.net = [(128, 'relu'), (128, 'relu'), (2, 'relu')] # [(128, 'relu'), (128, 'relu'), (2, 'relu')]\n",
    "        self.lr = 0.0001         # 0.0001\n",
    "        self.opt = Optimizer.ADAM # Optimizer.ADAM"
   ]
  },
  {
   "cell_type": "code",
   "execution_count": null,
   "metadata": {
    "colab": {
     "base_uri": "https://localhost:8080/",
     "height": 1000
    },
    "id": "cMi0IT9abNix",
    "outputId": "504e86bf-2c00-45ae-cba9-b6f9df9bcef1"
   },
   "outputs": [
    {
     "name": "stdout",
     "output_type": "stream",
     "text": [
      "WARNING:tensorflow:From /tensorflow-1.15.2/python3.7/tensorflow_core/python/ops/resource_variable_ops.py:1630: calling BaseResourceVariable.__init__ (from tensorflow.python.ops.resource_variable_ops) with constraint is deprecated and will be removed in a future version.\n",
      "Instructions for updating:\n",
      "If using Keras pass *_constraint arguments to layers.\n",
      "Initialization was finished.\n",
      "Training was started.\n",
      "WARNING:tensorflow:From /tensorflow-1.15.2/python3.7/keras/backend/tensorflow_backend.py:422: The name tf.global_variables is deprecated. Please use tf.compat.v1.global_variables instead.\n",
      "\n",
      "Episode Id: 10 Return during training: 13.0\n",
      "Episode Id: 20 Return during training: 12.0\n",
      "Episode Id: 30 Return during training: 8.0\n",
      "Episode Id: 40 Return during training: 11.0\n",
      "Episode Id: 50 Return during training: 12.0\n",
      "Episode Id: 60 Return during training: 12.0\n",
      "Episode Id: 70 Return during training: 9.0\n",
      "Episode Id: 80 Return during training: 15.0\n",
      "Episode Id: 90 Return during training: 38.0\n",
      "Episode Id: 100 Return during training: 125.0\n",
      "Episode Id: 110 Return during training: 124.0\n",
      "Episode Id: 120 Return during training: 12.0\n",
      "Episode Id: 130 Return during training: 9.0\n",
      "Episode Id: 140 Return during training: 10.0\n",
      "Episode Id: 150 Return during training: 14.0\n",
      "Episode Id: 160 Return during training: 17.0\n",
      "Episode Id: 170 Return during training: 180.0\n",
      "Episode Id: 180 Return during training: 95.0\n",
      "Episode Id: 190 Return during training: 200.0\n",
      "Episode Id: 200 Return during training: 199.0\n",
      "Episode Id: 210 Return during training: 33.0\n",
      "Episode Id: 220 Return during training: 46.0\n",
      "Episode Id: 230 Return during training: 23.0\n",
      "Episode Id: 240 Return during training: 58.0\n",
      "Episode Id: 250 Return during training: 46.0\n",
      "Episode Id: 260 Return during training: 49.0\n",
      "Episode Id: 270 Return during training: 71.0\n",
      "Episode Id: 280 Return during training: 38.0\n",
      "Episode Id: 290 Return during training: 13.0\n",
      "Episode Id: 300 Return during training: 101.0\n",
      "Episode Id: 310 Return during training: 83.0\n",
      "Episode Id: 320 Return during training: 64.0\n",
      "Episode Id: 330 Return during training: 142.0\n",
      "Episode Id: 340 Return during training: 44.0\n",
      "Episode Id: 350 Return during training: 102.0\n",
      "Episode Id: 360 Return during training: 99.0\n",
      "Episode Id: 370 Return during training: 28.0\n",
      "Episode Id: 380 Return during training: 109.0\n",
      "Episode Id: 390 Return during training: 200.0\n",
      "Episode Id: 400 Return during training: 200.0\n",
      "Training was finished.\n"
     ]
    },
    {
     "data": {
      "image/png": "[encoded data removed]",
      "text/plain": [
       "<Figure size 432x288 with 1 Axes>"
      ]
     },
     "metadata": {
      "needs_background": "light"
     },
     "output_type": "display_data"
    }
   ],
   "source": [
    "# Running the training and evaluation\n",
    "from tensorflow.keras import backend as be\n",
    "be.clear_session()\n",
    "pms = Parameters()\n",
    "dqn = Dqn(pms)\n",
    "ep_ids, returns = dqn.train_function()\n",
    "plt.plot(ep_ids, returns)\n",
    "dqn.evaluation(video=False)\n",
    "dqn.close()"
   ]
  },
  {
   "cell_type": "markdown",
   "metadata": {
    "id": "dFrdEhX1GpwE"
   },
   "source": [
    "## Summary for Epsilon\n",
    "Epsilons tried were both higher and lower than the default value of 0.5. The value higher than default was 0.8 and lower was 0.3. Rest parameters were set to default. In both the cases the system converged. It took around 130 episodes to converge for epsilon = 0.8, which is much lower than default of around 190 episodes and the convergence is very smooth as we can see from the plots. In case of epsilon = 0.3 it took around 400 episodes for the system to converge, which is way more than the defualt system and the convergence was very erratic as we can see from the plot. Hence, it can be seen higher the value of epsilon better the convergence."
   ]
  },
  {
   "cell_type": "markdown",
   "metadata": {
    "id": "ehLnMNAoIgIj"
   },
   "source": [
    "##Exploring: Train Frequency"
   ]
  },
  {
   "cell_type": "code",
   "execution_count": null,
   "metadata": {
    "id": "Wiu8ywiR3Ig-"
   },
   "outputs": [],
   "source": [
    "#Train Frequency = 5\n",
    "class Parameters:\n",
    "\n",
    "    def __init__(self):\n",
    "                                 # Default values\n",
    "        self.buf_size = 5000     # 5000\n",
    "        self.batch = 256         # 256\n",
    "        self.epoch = 5           # 5\n",
    "        self.max_ep = 500        # 500\n",
    "        self.eps = 0.5           # 0.5\n",
    "        self.gamma = 0.9         # 0.9\n",
    "        self.C = 100             # 100\n",
    "        self.train_freq = 5      # 1\n",
    "        self.eval_freq = 10      # 10\n",
    "        self.net = [(128, 'relu'), (128, 'relu'), (2, 'relu')] # [(128, 'relu'), (128, 'relu'), (2, 'relu')]\n",
    "        self.lr = 0.0001         # 0.0001\n",
    "        self.opt = Optimizer.ADAM # Optimizer.ADAM"
   ]
  },
  {
   "cell_type": "code",
   "execution_count": null,
   "metadata": {
    "colab": {
     "base_uri": "https://localhost:8080/",
     "height": 1000
    },
    "id": "lds1wJub-dVV",
    "outputId": "1b1c4797-71dc-40f9-dc83-c292e865459a"
   },
   "outputs": [
    {
     "name": "stdout",
     "output_type": "stream",
     "text": [
      "WARNING:tensorflow:From /tensorflow-1.15.2/python3.7/tensorflow_core/python/ops/resource_variable_ops.py:1630: calling BaseResourceVariable.__init__ (from tensorflow.python.ops.resource_variable_ops) with constraint is deprecated and will be removed in a future version.\n",
      "Instructions for updating:\n",
      "If using Keras pass *_constraint arguments to layers.\n",
      "Initialization was finished.\n",
      "Training was started.\n",
      "WARNING:tensorflow:From /tensorflow-1.15.2/python3.7/keras/backend/tensorflow_backend.py:422: The name tf.global_variables is deprecated. Please use tf.compat.v1.global_variables instead.\n",
      "\n",
      "Episode Id: 10 Return during training: 33.0\n",
      "Episode Id: 20 Return during training: 10.0\n",
      "Episode Id: 30 Return during training: 14.0\n",
      "Episode Id: 40 Return during training: 8.0\n",
      "Episode Id: 50 Return during training: 9.0\n",
      "Episode Id: 60 Return during training: 11.0\n",
      "Episode Id: 70 Return during training: 8.0\n",
      "Episode Id: 80 Return during training: 9.0\n",
      "Episode Id: 90 Return during training: 9.0\n",
      "Episode Id: 100 Return during training: 8.0\n",
      "Episode Id: 110 Return during training: 8.0\n",
      "Episode Id: 120 Return during training: 10.0\n",
      "Episode Id: 130 Return during training: 9.0\n",
      "Episode Id: 140 Return during training: 10.0\n",
      "Episode Id: 150 Return during training: 8.0\n",
      "Episode Id: 160 Return during training: 10.0\n",
      "Episode Id: 170 Return during training: 10.0\n",
      "Episode Id: 180 Return during training: 8.0\n",
      "Episode Id: 190 Return during training: 10.0\n",
      "Episode Id: 200 Return during training: 10.0\n",
      "Episode Id: 210 Return during training: 10.0\n",
      "Episode Id: 220 Return during training: 11.0\n",
      "Episode Id: 230 Return during training: 10.0\n",
      "Episode Id: 240 Return during training: 9.0\n",
      "Episode Id: 250 Return during training: 8.0\n",
      "Episode Id: 260 Return during training: 9.0\n",
      "Episode Id: 270 Return during training: 10.0\n",
      "Episode Id: 280 Return during training: 8.0\n",
      "Episode Id: 290 Return during training: 10.0\n",
      "Episode Id: 300 Return during training: 9.0\n",
      "Episode Id: 310 Return during training: 10.0\n",
      "Episode Id: 320 Return during training: 8.0\n",
      "Episode Id: 330 Return during training: 11.0\n",
      "Episode Id: 340 Return during training: 9.0\n",
      "Episode Id: 350 Return during training: 8.0\n",
      "Episode Id: 360 Return during training: 9.0\n",
      "Episode Id: 370 Return during training: 10.0\n",
      "Episode Id: 380 Return during training: 8.0\n",
      "Episode Id: 390 Return during training: 9.0\n",
      "Episode Id: 400 Return during training: 10.0\n",
      "Episode Id: 410 Return during training: 10.0\n",
      "Episode Id: 420 Return during training: 10.0\n",
      "Episode Id: 430 Return during training: 10.0\n",
      "Episode Id: 440 Return during training: 9.0\n",
      "Episode Id: 450 Return during training: 10.0\n",
      "Episode Id: 460 Return during training: 10.0\n",
      "Episode Id: 470 Return during training: 11.0\n",
      "Episode Id: 480 Return during training: 10.0\n",
      "Episode Id: 490 Return during training: 10.0\n",
      "Training was finished.\n"
     ]
    },
    {
     "data": {
      "image/png": "[encoded data removed]",
      "text/plain": [
       "<Figure size 432x288 with 1 Axes>"
      ]
     },
     "metadata": {
      "needs_background": "light"
     },
     "output_type": "display_data"
    }
   ],
   "source": [
    "# Running the training and evaluation\n",
    "from tensorflow.keras import backend as be\n",
    "be.clear_session()\n",
    "pms = Parameters()\n",
    "dqn = Dqn(pms)\n",
    "ep_ids, returns = dqn.train_function()\n",
    "plt.plot(ep_ids, returns)\n",
    "dqn.evaluation(video=False)\n",
    "dqn.close()"
   ]
  },
  {
   "cell_type": "code",
   "execution_count": null,
   "metadata": {
    "id": "_JMLk4ks-zYF"
   },
   "outputs": [],
   "source": [
    "#Train Frequency = 10\n",
    "class Parameters:\n",
    "\n",
    "    def __init__(self):\n",
    "                                 # Default values\n",
    "        self.buf_size = 5000     # 5000\n",
    "        self.batch = 256         # 256\n",
    "        self.epoch = 5           # 5\n",
    "        self.max_ep = 500        # 500\n",
    "        self.eps = 0.5           # 0.5\n",
    "        self.gamma = 0.9         # 0.9\n",
    "        self.C = 100             # 100\n",
    "        self.train_freq = 10      # 1\n",
    "        self.eval_freq = 10      # 10\n",
    "        self.net = [(128, 'relu'), (128, 'relu'), (2, 'relu')] # [(128, 'relu'), (128, 'relu'), (2, 'relu')]\n",
    "        self.lr = 0.0001         # 0.0001\n",
    "        self.opt = Optimizer.ADAM # Optimizer.ADAM"
   ]
  },
  {
   "cell_type": "code",
   "execution_count": null,
   "metadata": {
    "colab": {
     "base_uri": "https://localhost:8080/",
     "height": 1000
    },
    "id": "DujP0fEcAJqd",
    "outputId": "7cd459b9-d502-44bc-aafe-ab1c1e93f035"
   },
   "outputs": [
    {
     "name": "stdout",
     "output_type": "stream",
     "text": [
      "WARNING:tensorflow:From /tensorflow-1.15.2/python3.7/tensorflow_core/python/ops/resource_variable_ops.py:1630: calling BaseResourceVariable.__init__ (from tensorflow.python.ops.resource_variable_ops) with constraint is deprecated and will be removed in a future version.\n",
      "Instructions for updating:\n",
      "If using Keras pass *_constraint arguments to layers.\n",
      "Initialization was finished.\n",
      "Training was started.\n",
      "WARNING:tensorflow:From /tensorflow-1.15.2/python3.7/keras/backend/tensorflow_backend.py:422: The name tf.global_variables is deprecated. Please use tf.compat.v1.global_variables instead.\n",
      "\n",
      "Episode Id: 10 Return during training: 19.0\n",
      "Episode Id: 20 Return during training: 9.0\n",
      "Episode Id: 30 Return during training: 11.0\n",
      "Episode Id: 40 Return during training: 12.0\n",
      "Episode Id: 50 Return during training: 8.0\n",
      "Episode Id: 60 Return during training: 12.0\n",
      "Episode Id: 70 Return during training: 10.0\n",
      "Episode Id: 80 Return during training: 9.0\n",
      "Episode Id: 90 Return during training: 10.0\n",
      "Episode Id: 100 Return during training: 10.0\n",
      "Episode Id: 110 Return during training: 10.0\n",
      "Episode Id: 120 Return during training: 9.0\n",
      "Episode Id: 130 Return during training: 10.0\n",
      "Episode Id: 140 Return during training: 11.0\n",
      "Episode Id: 150 Return during training: 10.0\n",
      "Episode Id: 160 Return during training: 9.0\n",
      "Episode Id: 170 Return during training: 10.0\n",
      "Episode Id: 180 Return during training: 11.0\n",
      "Episode Id: 190 Return during training: 10.0\n",
      "Episode Id: 200 Return during training: 8.0\n",
      "Episode Id: 210 Return during training: 10.0\n",
      "Episode Id: 220 Return during training: 11.0\n",
      "Episode Id: 230 Return during training: 14.0\n",
      "Episode Id: 240 Return during training: 9.0\n",
      "Episode Id: 250 Return during training: 8.0\n",
      "Episode Id: 260 Return during training: 10.0\n",
      "Episode Id: 270 Return during training: 11.0\n",
      "Episode Id: 280 Return during training: 9.0\n",
      "Episode Id: 290 Return during training: 10.0\n",
      "Episode Id: 300 Return during training: 8.0\n",
      "Episode Id: 310 Return during training: 8.0\n",
      "Episode Id: 320 Return during training: 9.0\n",
      "Episode Id: 330 Return during training: 8.0\n",
      "Episode Id: 340 Return during training: 10.0\n",
      "Episode Id: 350 Return during training: 9.0\n",
      "Episode Id: 360 Return during training: 10.0\n",
      "Episode Id: 370 Return during training: 10.0\n",
      "Episode Id: 380 Return during training: 8.0\n",
      "Episode Id: 390 Return during training: 8.0\n",
      "Episode Id: 400 Return during training: 11.0\n",
      "Episode Id: 410 Return during training: 9.0\n",
      "Episode Id: 420 Return during training: 9.0\n",
      "Episode Id: 430 Return during training: 10.0\n",
      "Episode Id: 440 Return during training: 8.0\n",
      "Episode Id: 450 Return during training: 11.0\n",
      "Episode Id: 460 Return during training: 9.0\n",
      "Episode Id: 470 Return during training: 8.0\n",
      "Episode Id: 480 Return during training: 11.0\n",
      "Episode Id: 490 Return during training: 9.0\n",
      "Training was finished.\n"
     ]
    },
    {
     "data": {
      "image/png": "[encoded data removed]",
      "text/plain": [
       "<Figure size 432x288 with 1 Axes>"
      ]
     },
     "metadata": {
      "needs_background": "light"
     },
     "output_type": "display_data"
    }
   ],
   "source": [
    "# Running the training and evaluation\n",
    "from tensorflow.keras import backend as be\n",
    "be.clear_session()\n",
    "pms = Parameters()\n",
    "dqn = Dqn(pms)\n",
    "ep_ids, returns = dqn.train_function()\n",
    "plt.plot(ep_ids, returns)\n",
    "dqn.evaluation(video=False)\n",
    "dqn.close()"
   ]
  },
  {
   "cell_type": "markdown",
   "metadata": {
    "id": "ee3-2P-rIprU"
   },
   "source": [
    "## Summary for train frequency\n",
    "\n",
    "We tried the train frequency value of 5 and 10 in both the cases the system did not converge hence, it seems like it needs to train with different set of values.\n",
    "\n",
    "P.S. More exploration towards the end."
   ]
  },
  {
   "cell_type": "markdown",
   "metadata": {
    "id": "zFfrMbS4I4Pt"
   },
   "source": [
    "## Exploring: Net.  \n",
    "## Neurons"
   ]
  },
  {
   "cell_type": "code",
   "execution_count": null,
   "metadata": {
    "id": "w6QCb7f2Alvu"
   },
   "outputs": [],
   "source": [
    "#Neurons\n",
    "class Parameters:\n",
    "\n",
    "    def __init__(self):\n",
    "                                 # Default values\n",
    "        self.buf_size = 5000     # 5000\n",
    "        self.batch = 256         # 256\n",
    "        self.epoch = 5           # 5\n",
    "        self.max_ep = 500        # 500\n",
    "        self.eps = 0.5           # 0.5\n",
    "        self.gamma = 0.9         # 0.9\n",
    "        self.C = 100             # 100\n",
    "        self.train_freq = 1      # 1\n",
    "        self.eval_freq = 10      # 10\n",
    "        self.net = [(64, 'relu'), (64, 'relu'), (2, 'relu')] # [(128, 'relu'), (128, 'relu'), (2, 'relu')]\n",
    "        self.lr = 0.0001         # 0.0001\n",
    "        self.opt = Optimizer.ADAM # Optimizer.ADAM"
   ]
  },
  {
   "cell_type": "code",
   "execution_count": null,
   "metadata": {
    "colab": {
     "base_uri": "https://localhost:8080/",
     "height": 1000
    },
    "id": "Ze9J-o7qfIAt",
    "outputId": "3b7aadc6-75fe-4a38-89ae-0dc5eea1fb4a"
   },
   "outputs": [
    {
     "name": "stdout",
     "output_type": "stream",
     "text": [
      "WARNING:tensorflow:From /tensorflow-1.15.2/python3.7/tensorflow_core/python/ops/resource_variable_ops.py:1630: calling BaseResourceVariable.__init__ (from tensorflow.python.ops.resource_variable_ops) with constraint is deprecated and will be removed in a future version.\n",
      "Instructions for updating:\n",
      "If using Keras pass *_constraint arguments to layers.\n",
      "Initialization was finished.\n",
      "Training was started.\n",
      "WARNING:tensorflow:From /tensorflow-1.15.2/python3.7/keras/backend/tensorflow_backend.py:422: The name tf.global_variables is deprecated. Please use tf.compat.v1.global_variables instead.\n",
      "\n",
      "Episode Id: 10 Return during training: 12.0\n",
      "Episode Id: 20 Return during training: 13.0\n",
      "Episode Id: 30 Return during training: 11.0\n",
      "Episode Id: 40 Return during training: 8.0\n",
      "Episode Id: 50 Return during training: 12.0\n",
      "Episode Id: 60 Return during training: 12.0\n",
      "Episode Id: 70 Return during training: 13.0\n",
      "Episode Id: 80 Return during training: 13.0\n",
      "Episode Id: 90 Return during training: 33.0\n",
      "Episode Id: 100 Return during training: 38.0\n",
      "Episode Id: 110 Return during training: 42.0\n",
      "Episode Id: 120 Return during training: 38.0\n",
      "Episode Id: 130 Return during training: 49.0\n",
      "Episode Id: 140 Return during training: 56.0\n",
      "Episode Id: 150 Return during training: 68.0\n",
      "Episode Id: 160 Return during training: 70.0\n",
      "Episode Id: 170 Return during training: 107.0\n",
      "Episode Id: 180 Return during training: 105.0\n",
      "Episode Id: 190 Return during training: 72.0\n",
      "Episode Id: 200 Return during training: 106.0\n",
      "Episode Id: 210 Return during training: 63.0\n",
      "Episode Id: 220 Return during training: 9.0\n",
      "Episode Id: 230 Return during training: 12.0\n",
      "Episode Id: 240 Return during training: 10.0\n",
      "Episode Id: 250 Return during training: 11.0\n",
      "Episode Id: 260 Return during training: 11.0\n",
      "Episode Id: 270 Return during training: 9.0\n",
      "Episode Id: 280 Return during training: 9.0\n",
      "Episode Id: 290 Return during training: 200.0\n",
      "Episode Id: 300 Return during training: 119.0\n",
      "Episode Id: 310 Return during training: 10.0\n",
      "Episode Id: 320 Return during training: 12.0\n",
      "Episode Id: 330 Return during training: 10.0\n",
      "Episode Id: 340 Return during training: 34.0\n",
      "Episode Id: 350 Return during training: 27.0\n",
      "Episode Id: 360 Return during training: 31.0\n",
      "Episode Id: 370 Return during training: 10.0\n",
      "Episode Id: 380 Return during training: 10.0\n",
      "Episode Id: 390 Return during training: 200.0\n",
      "Episode Id: 400 Return during training: 157.0\n",
      "Training was finished.\n"
     ]
    },
    {
     "data": {
      "image/png": "[encoded data removed]",
      "text/plain": [
       "<Figure size 432x288 with 1 Axes>"
      ]
     },
     "metadata": {
      "needs_background": "light"
     },
     "output_type": "display_data"
    }
   ],
   "source": [
    "# Running the training and evaluation\n",
    "from tensorflow.keras import backend as be\n",
    "be.clear_session()\n",
    "pms = Parameters()\n",
    "dqn = Dqn(pms)\n",
    "ep_ids, returns = dqn.train_function()\n",
    "plt.plot(ep_ids, returns)\n",
    "dqn.evaluation(video=False)\n",
    "dqn.close()"
   ]
  },
  {
   "cell_type": "code",
   "execution_count": null,
   "metadata": {
    "id": "NYwZWOhqfQ1R"
   },
   "outputs": [],
   "source": [
    "#Neurons\n",
    "class Parameters:\n",
    "\n",
    "    def __init__(self):\n",
    "                                 # Default values\n",
    "        self.buf_size = 5000     # 5000\n",
    "        self.batch = 256         # 256\n",
    "        self.epoch = 5           # 5\n",
    "        self.max_ep = 500        # 500\n",
    "        self.eps = 0.5           # 0.5\n",
    "        self.gamma = 0.9         # 0.9\n",
    "        self.C = 100             # 100\n",
    "        self.train_freq = 1      # 1\n",
    "        self.eval_freq = 10      # 10\n",
    "        self.net = [(256, 'relu'), (256, 'relu'), (2, 'relu')] # [(128, 'relu'), (128, 'relu'), (2, 'relu')]\n",
    "        self.lr = 0.0001         # 0.0001\n",
    "        self.opt = Optimizer.ADAM # Optimizer.ADAM"
   ]
  },
  {
   "cell_type": "code",
   "execution_count": null,
   "metadata": {
    "colab": {
     "base_uri": "https://localhost:8080/",
     "height": 649
    },
    "id": "LGy0_ZD-fVzF",
    "outputId": "016f0bc8-2353-4c11-dad7-404137b998bf"
   },
   "outputs": [
    {
     "name": "stdout",
     "output_type": "stream",
     "text": [
      "WARNING:tensorflow:From /tensorflow-1.15.2/python3.7/tensorflow_core/python/ops/resource_variable_ops.py:1630: calling BaseResourceVariable.__init__ (from tensorflow.python.ops.resource_variable_ops) with constraint is deprecated and will be removed in a future version.\n",
      "Instructions for updating:\n",
      "If using Keras pass *_constraint arguments to layers.\n",
      "Initialization was finished.\n",
      "Training was started.\n",
      "WARNING:tensorflow:From /tensorflow-1.15.2/python3.7/keras/backend/tensorflow_backend.py:422: The name tf.global_variables is deprecated. Please use tf.compat.v1.global_variables instead.\n",
      "\n",
      "Episode Id: 10 Return during training: 13.0\n",
      "Episode Id: 20 Return during training: 14.0\n",
      "Episode Id: 30 Return during training: 9.0\n",
      "Episode Id: 40 Return during training: 13.0\n",
      "Episode Id: 50 Return during training: 11.0\n",
      "Episode Id: 60 Return during training: 13.0\n",
      "Episode Id: 70 Return during training: 28.0\n",
      "Episode Id: 80 Return during training: 25.0\n",
      "Episode Id: 90 Return during training: 200.0\n",
      "Episode Id: 100 Return during training: 62.0\n",
      "Episode Id: 110 Return during training: 129.0\n",
      "Episode Id: 120 Return during training: 135.0\n",
      "Episode Id: 130 Return during training: 52.0\n",
      "Training was finished.\n"
     ]
    },
    {
     "data": {
      "image/png": "[encoded data removed]",
      "text/plain": [
       "<Figure size 432x288 with 1 Axes>"
      ]
     },
     "metadata": {
      "needs_background": "light"
     },
     "output_type": "display_data"
    }
   ],
   "source": [
    "# Running the training and evaluation\n",
    "from tensorflow.keras import backend as be\n",
    "be.clear_session()\n",
    "pms = Parameters()\n",
    "dqn = Dqn(pms)\n",
    "ep_ids, returns = dqn.train_function()\n",
    "plt.plot(ep_ids, returns)\n",
    "dqn.evaluation(video=False)\n",
    "dqn.close()"
   ]
  },
  {
   "cell_type": "markdown",
   "metadata": {
    "id": "vU6GzKzYV-fb"
   },
   "source": [
    "## Summary of Neurons\n",
    "\n",
    "I tried 2 different values for the number of neurons in the neural network for the system one higher (256) and one lower (64) than the default value of 128. Rest of the parameters were kept the same. In both the cases the system converged. The one with the lower number of neurons (64) took around 400 episodes and was very irratic as well compared to one with higher number of neurons (256). The system with the higher number of neurons seem to be less erratic and converges quicky compared to default system and the system with lower neurons. Hence, it seems higher the neurons the better the system."
   ]
  },
  {
   "cell_type": "markdown",
   "metadata": {
    "id": "hsG6V4-8JYCe"
   },
   "source": [
    "## Activation function"
   ]
  },
  {
   "cell_type": "code",
   "execution_count": null,
   "metadata": {
    "id": "adw0BosNfcec"
   },
   "outputs": [],
   "source": [
    "#Activation = elu\n",
    "class Parameters:\n",
    "\n",
    "    def __init__(self):\n",
    "                                 # Default values\n",
    "        self.buf_size = 5000     # 5000\n",
    "        self.batch = 256         # 256\n",
    "        self.epoch = 5           # 5\n",
    "        self.max_ep = 500        # 500\n",
    "        self.eps = 0.5           # 0.5\n",
    "        self.gamma = 0.9         # 0.9\n",
    "        self.C = 100             # 100\n",
    "        self.train_freq = 1      # 1\n",
    "        self.eval_freq = 10      # 10\n",
    "        self.net = [(128, 'elu'), (128, 'elu'), (2, 'elu')] # [(128, 'relu'), (128, 'relu'), (2, 'relu')]\n",
    "        self.lr = 0.0001         # 0.0001\n",
    "        self.opt = Optimizer.ADAM # Optimizer.ADAM"
   ]
  },
  {
   "cell_type": "code",
   "execution_count": null,
   "metadata": {
    "colab": {
     "base_uri": "https://localhost:8080/",
     "height": 1000
    },
    "id": "fKaqiR45fmsS",
    "outputId": "1f97cf85-ae91-49e5-806e-3d9f2f8fdff1"
   },
   "outputs": [
    {
     "name": "stdout",
     "output_type": "stream",
     "text": [
      "WARNING:tensorflow:From /tensorflow-1.15.2/python3.7/tensorflow_core/python/ops/resource_variable_ops.py:1630: calling BaseResourceVariable.__init__ (from tensorflow.python.ops.resource_variable_ops) with constraint is deprecated and will be removed in a future version.\n",
      "Instructions for updating:\n",
      "If using Keras pass *_constraint arguments to layers.\n",
      "Initialization was finished.\n",
      "Training was started.\n",
      "WARNING:tensorflow:From /tensorflow-1.15.2/python3.7/keras/backend/tensorflow_backend.py:422: The name tf.global_variables is deprecated. Please use tf.compat.v1.global_variables instead.\n",
      "\n",
      "Episode Id: 10 Return during training: 10.0\n",
      "Episode Id: 20 Return during training: 11.0\n",
      "Episode Id: 30 Return during training: 12.0\n",
      "Episode Id: 40 Return during training: 10.0\n",
      "Episode Id: 50 Return during training: 8.0\n",
      "Episode Id: 60 Return during training: 9.0\n",
      "Episode Id: 70 Return during training: 9.0\n",
      "Episode Id: 80 Return during training: 10.0\n",
      "Episode Id: 90 Return during training: 9.0\n",
      "Episode Id: 100 Return during training: 11.0\n",
      "Episode Id: 110 Return during training: 10.0\n",
      "Episode Id: 120 Return during training: 11.0\n",
      "Episode Id: 130 Return during training: 9.0\n",
      "Episode Id: 140 Return during training: 11.0\n",
      "Episode Id: 150 Return during training: 10.0\n",
      "Episode Id: 160 Return during training: 11.0\n",
      "Episode Id: 170 Return during training: 12.0\n",
      "Episode Id: 180 Return during training: 10.0\n",
      "Episode Id: 190 Return during training: 9.0\n",
      "Episode Id: 200 Return during training: 9.0\n",
      "Episode Id: 210 Return during training: 10.0\n",
      "Episode Id: 220 Return during training: 11.0\n",
      "Episode Id: 230 Return during training: 11.0\n",
      "Episode Id: 240 Return during training: 12.0\n",
      "Episode Id: 250 Return during training: 12.0\n",
      "Episode Id: 260 Return during training: 10.0\n",
      "Episode Id: 270 Return during training: 10.0\n",
      "Episode Id: 280 Return during training: 19.0\n",
      "Episode Id: 290 Return during training: 36.0\n",
      "Episode Id: 300 Return during training: 17.0\n",
      "Episode Id: 310 Return during training: 49.0\n",
      "Episode Id: 320 Return during training: 58.0\n",
      "Episode Id: 330 Return during training: 65.0\n",
      "Episode Id: 340 Return during training: 93.0\n",
      "Episode Id: 350 Return during training: 17.0\n",
      "Episode Id: 360 Return during training: 18.0\n",
      "Episode Id: 370 Return during training: 17.0\n",
      "Episode Id: 380 Return during training: 25.0\n",
      "Episode Id: 390 Return during training: 38.0\n",
      "Episode Id: 400 Return during training: 45.0\n",
      "Training was finished.\n"
     ]
    },
    {
     "data": {
      "image/png": "[encoded data removed]",
      "text/plain": [
       "<Figure size 432x288 with 1 Axes>"
      ]
     },
     "metadata": {
      "needs_background": "light"
     },
     "output_type": "display_data"
    }
   ],
   "source": [
    "# Running the training and evaluation\n",
    "from tensorflow.keras import backend as be\n",
    "be.clear_session()\n",
    "pms = Parameters()\n",
    "dqn = Dqn(pms)\n",
    "ep_ids, returns = dqn.train_function()\n",
    "plt.plot(ep_ids, returns)\n",
    "dqn.evaluation(video=False)\n",
    "dqn.close()"
   ]
  },
  {
   "cell_type": "markdown",
   "metadata": {
    "id": "ZzxQpcMbVK7t"
   },
   "source": [
    "## Summary for Activation Functions\n",
    "\n",
    "I tried a different activation function elu and kept rest of the parameters as default. As we can see in the plot the DQN sytem was not able to converge at the beginning but after 250 episodes it started to converge and around 400 episodes it converged to the optimal return value. The system converges with elu as well but it takes way longer than the relu function."
   ]
  },
  {
   "cell_type": "markdown",
   "metadata": {
    "id": "Gh1JfaKj303_"
   },
   "source": [
    "## Exploring Epochs"
   ]
  },
  {
   "cell_type": "code",
   "execution_count": null,
   "metadata": {
    "id": "IM7H1Hlz3mIj"
   },
   "outputs": [],
   "source": [
    "#epochs = 3\n",
    "class Parameters:\n",
    "\n",
    "    def __init__(self):\n",
    "                                 # Default values\n",
    "        self.buf_size = 5000     # 5000\n",
    "        self.batch = 256         # 256\n",
    "        self.epoch = 3           # 5\n",
    "        self.max_ep = 500        # 500\n",
    "        self.eps = 0.5           # 0.5\n",
    "        self.gamma = 0.9         # 0.9\n",
    "        self.C = 100             # 100\n",
    "        self.train_freq = 1      # 1\n",
    "        self.eval_freq = 10      # 10\n",
    "        self.net = [(128, 'relu'), (128, 'relu'), (2, 'relu')] # [(128, 'relu'), (128, 'relu'), (2, 'relu')]\n",
    "        self.lr = 0.0001         # 0.0001\n",
    "        self.opt = Optimizer.ADAM # Optimizer.ADAM"
   ]
  },
  {
   "cell_type": "code",
   "execution_count": null,
   "metadata": {
    "colab": {
     "base_uri": "https://localhost:8080/",
     "height": 1000
    },
    "id": "wrLP_qii3mAR",
    "outputId": "e2aeea58-d7d7-4ce1-ff48-c9a8c2ab5a61"
   },
   "outputs": [
    {
     "name": "stdout",
     "output_type": "stream",
     "text": [
      "WARNING:tensorflow:From /tensorflow-1.15.2/python3.7/tensorflow_core/python/ops/resource_variable_ops.py:1630: calling BaseResourceVariable.__init__ (from tensorflow.python.ops.resource_variable_ops) with constraint is deprecated and will be removed in a future version.\n",
      "Instructions for updating:\n",
      "If using Keras pass *_constraint arguments to layers.\n",
      "Initialization was finished.\n",
      "Training was started.\n",
      "WARNING:tensorflow:From /tensorflow-1.15.2/python3.7/keras/backend/tensorflow_backend.py:422: The name tf.global_variables is deprecated. Please use tf.compat.v1.global_variables instead.\n",
      "\n",
      "Episode Id: 10 Return during training: 14.0\n",
      "Episode Id: 20 Return during training: 10.0\n",
      "Episode Id: 30 Return during training: 12.0\n",
      "Episode Id: 40 Return during training: 9.0\n",
      "Episode Id: 50 Return during training: 10.0\n",
      "Episode Id: 60 Return during training: 11.0\n",
      "Episode Id: 70 Return during training: 9.0\n",
      "Episode Id: 80 Return during training: 11.0\n",
      "Episode Id: 90 Return during training: 12.0\n",
      "Episode Id: 100 Return during training: 10.0\n",
      "Episode Id: 110 Return during training: 13.0\n",
      "Episode Id: 120 Return during training: 16.0\n",
      "Episode Id: 130 Return during training: 16.0\n",
      "Episode Id: 140 Return during training: 21.0\n",
      "Episode Id: 150 Return during training: 43.0\n",
      "Episode Id: 160 Return during training: 74.0\n",
      "Episode Id: 170 Return during training: 56.0\n",
      "Episode Id: 180 Return during training: 31.0\n",
      "Episode Id: 190 Return during training: 105.0\n",
      "Episode Id: 200 Return during training: 129.0\n",
      "Episode Id: 210 Return during training: 108.0\n",
      "Episode Id: 220 Return during training: 138.0\n",
      "Episode Id: 230 Return during training: 142.0\n",
      "Episode Id: 240 Return during training: 119.0\n",
      "Episode Id: 250 Return during training: 127.0\n",
      "Episode Id: 260 Return during training: 128.0\n",
      "Episode Id: 270 Return during training: 118.0\n",
      "Episode Id: 280 Return during training: 97.0\n",
      "Episode Id: 290 Return during training: 156.0\n",
      "Episode Id: 300 Return during training: 123.0\n",
      "Episode Id: 310 Return during training: 126.0\n",
      "Episode Id: 320 Return during training: 110.0\n",
      "Episode Id: 330 Return during training: 132.0\n",
      "Episode Id: 340 Return during training: 125.0\n",
      "Episode Id: 350 Return during training: 170.0\n",
      "Episode Id: 360 Return during training: 200.0\n",
      "Episode Id: 370 Return during training: 25.0\n",
      "Training was finished.\n"
     ]
    },
    {
     "data": {
      "image/png": "[encoded data removed]",
      "text/plain": [
       "<Figure size 432x288 with 1 Axes>"
      ]
     },
     "metadata": {
      "needs_background": "light"
     },
     "output_type": "display_data"
    }
   ],
   "source": [
    "# Running the training and evaluation\n",
    "from tensorflow.keras import backend as be\n",
    "be.clear_session()\n",
    "pms = Parameters()\n",
    "dqn = Dqn(pms)\n",
    "ep_ids, returns = dqn.train_function()\n",
    "plt.plot(ep_ids, returns)\n",
    "dqn.evaluation(video=False)\n",
    "dqn.close()"
   ]
  },
  {
   "cell_type": "code",
   "execution_count": null,
   "metadata": {
    "id": "GcMU8bmf3l3V"
   },
   "outputs": [],
   "source": [
    "#epochs = 8\n",
    "class Parameters:\n",
    "\n",
    "    def __init__(self):\n",
    "                                 # Default values\n",
    "        self.buf_size = 5000     # 5000\n",
    "        self.batch = 256         # 256\n",
    "        self.epoch = 8           # 5\n",
    "        self.max_ep = 500        # 500\n",
    "        self.eps = 0.5           # 0.5\n",
    "        self.gamma = 0.9         # 0.9\n",
    "        self.C = 100             # 100\n",
    "        self.train_freq = 1      # 1\n",
    "        self.eval_freq = 10      # 10\n",
    "        self.net = [(128, 'relu'), (128, 'relu'), (2, 'relu')] # [(128, 'relu'), (128, 'relu'), (2, 'relu')]\n",
    "        self.lr = 0.0001         # 0.0001\n",
    "        self.opt = Optimizer.ADAM # Optimizer.ADAM"
   ]
  },
  {
   "cell_type": "code",
   "execution_count": null,
   "metadata": {
    "colab": {
     "base_uri": "https://localhost:8080/",
     "height": 1000
    },
    "id": "6aoywuif3lpw",
    "outputId": "341a0fde-c0bb-488d-fcb9-87a292237c33"
   },
   "outputs": [
    {
     "name": "stdout",
     "output_type": "stream",
     "text": [
      "WARNING:tensorflow:From /tensorflow-1.15.2/python3.7/tensorflow_core/python/ops/resource_variable_ops.py:1630: calling BaseResourceVariable.__init__ (from tensorflow.python.ops.resource_variable_ops) with constraint is deprecated and will be removed in a future version.\n",
      "Instructions for updating:\n",
      "If using Keras pass *_constraint arguments to layers.\n",
      "Initialization was finished.\n",
      "Training was started.\n",
      "WARNING:tensorflow:From /tensorflow-1.15.2/python3.7/keras/backend/tensorflow_backend.py:422: The name tf.global_variables is deprecated. Please use tf.compat.v1.global_variables instead.\n",
      "\n",
      "Episode Id: 10 Return during training: 14.0\n",
      "Episode Id: 20 Return during training: 11.0\n",
      "Episode Id: 30 Return during training: 12.0\n",
      "Episode Id: 40 Return during training: 11.0\n",
      "Episode Id: 50 Return during training: 9.0\n",
      "Episode Id: 60 Return during training: 32.0\n",
      "Episode Id: 70 Return during training: 113.0\n",
      "Episode Id: 80 Return during training: 73.0\n",
      "Episode Id: 90 Return during training: 163.0\n",
      "Episode Id: 100 Return during training: 126.0\n",
      "Episode Id: 110 Return during training: 123.0\n",
      "Episode Id: 120 Return during training: 11.0\n",
      "Episode Id: 130 Return during training: 126.0\n",
      "Episode Id: 140 Return during training: 106.0\n",
      "Episode Id: 150 Return during training: 111.0\n",
      "Episode Id: 160 Return during training: 103.0\n",
      "Episode Id: 170 Return during training: 77.0\n",
      "Episode Id: 180 Return during training: 119.0\n",
      "Episode Id: 190 Return during training: 200.0\n",
      "Episode Id: 200 Return during training: 58.0\n",
      "Episode Id: 210 Return during training: 174.0\n",
      "Episode Id: 220 Return during training: 75.0\n",
      "Episode Id: 230 Return during training: 15.0\n",
      "Episode Id: 240 Return during training: 31.0\n",
      "Episode Id: 250 Return during training: 30.0\n",
      "Episode Id: 260 Return during training: 63.0\n",
      "Episode Id: 270 Return during training: 59.0\n",
      "Episode Id: 280 Return during training: 55.0\n",
      "Episode Id: 290 Return during training: 32.0\n",
      "Episode Id: 300 Return during training: 61.0\n",
      "Episode Id: 310 Return during training: 64.0\n",
      "Episode Id: 320 Return during training: 57.0\n",
      "Episode Id: 330 Return during training: 145.0\n",
      "Episode Id: 340 Return during training: 32.0\n",
      "Training was finished.\n"
     ]
    },
    {
     "data": {
      "image/png": "[encoded data removed]",
      "text/plain": [
       "<Figure size 432x288 with 1 Axes>"
      ]
     },
     "metadata": {
      "needs_background": "light"
     },
     "output_type": "display_data"
    }
   ],
   "source": [
    "# Running the training and evaluation\n",
    "from tensorflow.keras import backend as be\n",
    "be.clear_session()\n",
    "pms = Parameters()\n",
    "dqn = Dqn(pms)\n",
    "ep_ids, returns = dqn.train_function()\n",
    "plt.plot(ep_ids, returns)\n",
    "dqn.evaluation(video=False)\n",
    "dqn.close()"
   ]
  },
  {
   "cell_type": "markdown",
   "metadata": {
    "id": "V_juhD2t7iED"
   },
   "source": [
    "## Summary for Epochs\n",
    "\n",
    "In both the cases of epochs lower (3) and higher (8) than default value of 5 the DQN system converged to required optimal return for over 300 episode which is more than the default DQN convergence of around 190 episode and both higher epoch and lower epoch DQN system seem to be very erratic in terms of learning. Hence the default value seem to be just right. "
   ]
  },
  {
   "cell_type": "markdown",
   "metadata": {
    "id": "_oHaxfcB39_N"
   },
   "source": [
    "## Exploring Evaluation Frequency"
   ]
  },
  {
   "cell_type": "code",
   "execution_count": null,
   "metadata": {
    "id": "7w0nqmg-3kZd"
   },
   "outputs": [],
   "source": [
    "#Evaluating Frequency = 5\n",
    "class Parameters:\n",
    "\n",
    "    def __init__(self):\n",
    "                                 # Default values\n",
    "        self.buf_size = 5000     # 5000\n",
    "        self.batch = 256         # 256\n",
    "        self.epoch = 5           # 5\n",
    "        self.max_ep = 500        # 500\n",
    "        self.eps = 0.5           # 0.5\n",
    "        self.gamma = 0.9         # 0.9\n",
    "        self.C = 100             # 100\n",
    "        self.train_freq = 1      # 1\n",
    "        self.eval_freq = 5      # 10\n",
    "        self.net = [(128, 'relu'), (128, 'relu'), (2, 'relu')] # [(128, 'relu'), (128, 'relu'), (2, 'relu')]\n",
    "        self.lr = 0.0001         # 0.0001\n",
    "        self.opt = Optimizer.ADAM # Optimizer.ADAM"
   ]
  },
  {
   "cell_type": "code",
   "execution_count": null,
   "metadata": {
    "colab": {
     "base_uri": "https://localhost:8080/",
     "height": 1000
    },
    "id": "h_Y6z01n3kHy",
    "outputId": "56c1a0c6-f791-4a5e-b664-0094ab0783f2"
   },
   "outputs": [
    {
     "name": "stdout",
     "output_type": "stream",
     "text": [
      "WARNING:tensorflow:From /tensorflow-1.15.2/python3.7/tensorflow_core/python/ops/resource_variable_ops.py:1630: calling BaseResourceVariable.__init__ (from tensorflow.python.ops.resource_variable_ops) with constraint is deprecated and will be removed in a future version.\n",
      "Instructions for updating:\n",
      "If using Keras pass *_constraint arguments to layers.\n",
      "Initialization was finished.\n",
      "Training was started.\n",
      "WARNING:tensorflow:From /tensorflow-1.15.2/python3.7/keras/backend/tensorflow_backend.py:422: The name tf.global_variables is deprecated. Please use tf.compat.v1.global_variables instead.\n",
      "\n",
      "Episode Id: 10 Return during training: 10.0\n",
      "Episode Id: 20 Return during training: 10.0\n",
      "Episode Id: 30 Return during training: 10.0\n",
      "Episode Id: 40 Return during training: 10.0\n",
      "Episode Id: 50 Return during training: 10.0\n",
      "Episode Id: 60 Return during training: 9.0\n",
      "Episode Id: 70 Return during training: 9.0\n",
      "Episode Id: 80 Return during training: 10.0\n",
      "Episode Id: 90 Return during training: 10.0\n",
      "Episode Id: 100 Return during training: 9.0\n",
      "Episode Id: 110 Return during training: 10.0\n",
      "Episode Id: 120 Return during training: 10.0\n",
      "Episode Id: 130 Return during training: 10.0\n",
      "Episode Id: 140 Return during training: 9.0\n",
      "Episode Id: 150 Return during training: 9.0\n",
      "Episode Id: 160 Return during training: 9.0\n",
      "Episode Id: 170 Return during training: 9.0\n",
      "Episode Id: 180 Return during training: 10.0\n",
      "Episode Id: 190 Return during training: 9.0\n",
      "Episode Id: 200 Return during training: 9.0\n",
      "Episode Id: 210 Return during training: 15.0\n",
      "Episode Id: 220 Return during training: 10.0\n",
      "Episode Id: 230 Return during training: 8.0\n",
      "Episode Id: 240 Return during training: 34.0\n",
      "Episode Id: 250 Return during training: 11.0\n",
      "Episode Id: 260 Return during training: 12.0\n",
      "Episode Id: 270 Return during training: 14.0\n",
      "Episode Id: 280 Return during training: 14.0\n",
      "Episode Id: 290 Return during training: 26.0\n",
      "Episode Id: 300 Return during training: 35.0\n",
      "Episode Id: 310 Return during training: 20.0\n",
      "Episode Id: 320 Return during training: 36.0\n",
      "Episode Id: 330 Return during training: 37.0\n",
      "Episode Id: 340 Return during training: 30.0\n",
      "Episode Id: 350 Return during training: 33.0\n",
      "Episode Id: 360 Return during training: 51.0\n",
      "Episode Id: 370 Return during training: 39.0\n",
      "Episode Id: 380 Return during training: 55.0\n",
      "Episode Id: 390 Return during training: 28.0\n",
      "Episode Id: 400 Return during training: 10.0\n",
      "Episode Id: 410 Return during training: 8.0\n",
      "Episode Id: 420 Return during training: 37.0\n",
      "Episode Id: 430 Return during training: 26.0\n",
      "Episode Id: 440 Return during training: 12.0\n",
      "Episode Id: 450 Return during training: 34.0\n",
      "Episode Id: 460 Return during training: 10.0\n",
      "Episode Id: 470 Return during training: 87.0\n",
      "Training was finished.\n"
     ]
    },
    {
     "data": {
      "image/png": "[encoded data removed]",
      "text/plain": [
       "<Figure size 432x288 with 1 Axes>"
      ]
     },
     "metadata": {
      "needs_background": "light"
     },
     "output_type": "display_data"
    }
   ],
   "source": [
    "# Running the training and evaluation\n",
    "from tensorflow.keras import backend as be\n",
    "be.clear_session()\n",
    "pms = Parameters()\n",
    "dqn = Dqn(pms)\n",
    "ep_ids, returns = dqn.train_function()\n",
    "plt.plot(ep_ids, returns)\n",
    "dqn.evaluation(video=False)\n",
    "dqn.close()"
   ]
  },
  {
   "cell_type": "code",
   "execution_count": null,
   "metadata": {
    "id": "vn02ywFG3j4M"
   },
   "outputs": [],
   "source": [
    "#Evaluating Frequency = 15\n",
    "class Parameters:\n",
    "\n",
    "    def __init__(self):\n",
    "                                 # Default values\n",
    "        self.buf_size = 5000     # 5000\n",
    "        self.batch = 256         # 256\n",
    "        self.epoch = 5           # 5\n",
    "        self.max_ep = 500        # 500\n",
    "        self.eps = 0.5           # 0.5\n",
    "        self.gamma = 0.9         # 0.9\n",
    "        self.C = 100             # 100\n",
    "        self.train_freq = 1      # 1\n",
    "        self.eval_freq = 15      # 10\n",
    "        self.net = [(128, 'relu'), (128, 'relu'), (2, 'relu')] # [(128, 'relu'), (128, 'relu'), (2, 'relu')]\n",
    "        self.lr = 0.0001         # 0.0001\n",
    "        self.opt = Optimizer.ADAM # Optimizer.ADAM"
   ]
  },
  {
   "cell_type": "code",
   "execution_count": null,
   "metadata": {
    "colab": {
     "base_uri": "https://localhost:8080/",
     "height": 771
    },
    "id": "9VhFkIZR3jqK",
    "outputId": "38eb118e-78d6-40f9-f5d1-05a23d1cb50e"
   },
   "outputs": [
    {
     "name": "stdout",
     "output_type": "stream",
     "text": [
      "WARNING:tensorflow:From /tensorflow-1.15.2/python3.7/tensorflow_core/python/ops/resource_variable_ops.py:1630: calling BaseResourceVariable.__init__ (from tensorflow.python.ops.resource_variable_ops) with constraint is deprecated and will be removed in a future version.\n",
      "Instructions for updating:\n",
      "If using Keras pass *_constraint arguments to layers.\n",
      "Initialization was finished.\n",
      "Training was started.\n",
      "WARNING:tensorflow:From /tensorflow-1.15.2/python3.7/keras/backend/tensorflow_backend.py:422: The name tf.global_variables is deprecated. Please use tf.compat.v1.global_variables instead.\n",
      "\n",
      "Episode Id: 10 Return during training: 12.0\n",
      "Episode Id: 20 Return during training: 11.0\n",
      "Episode Id: 30 Return during training: 11.0\n",
      "Episode Id: 40 Return during training: 11.0\n",
      "Episode Id: 50 Return during training: 13.0\n",
      "Episode Id: 60 Return during training: 16.0\n",
      "Episode Id: 70 Return during training: 33.0\n",
      "Episode Id: 80 Return during training: 33.0\n",
      "Episode Id: 90 Return during training: 35.0\n",
      "Episode Id: 100 Return during training: 49.0\n",
      "Episode Id: 110 Return during training: 37.0\n",
      "Episode Id: 120 Return during training: 26.0\n",
      "Episode Id: 130 Return during training: 51.0\n",
      "Episode Id: 140 Return during training: 41.0\n",
      "Episode Id: 150 Return during training: 45.0\n",
      "Episode Id: 160 Return during training: 58.0\n",
      "Episode Id: 170 Return during training: 76.0\n",
      "Episode Id: 180 Return during training: 57.0\n",
      "Episode Id: 190 Return during training: 111.0\n",
      "Episode Id: 200 Return during training: 199.0\n",
      "Training was finished.\n"
     ]
    },
    {
     "data": {
      "image/png": "[encoded data removed]",
      "text/plain": [
       "<Figure size 432x288 with 1 Axes>"
      ]
     },
     "metadata": {
      "needs_background": "light"
     },
     "output_type": "display_data"
    }
   ],
   "source": [
    "# Running the training and evaluation\n",
    "from tensorflow.keras import backend as be\n",
    "be.clear_session()\n",
    "pms = Parameters()\n",
    "dqn = Dqn(pms)\n",
    "ep_ids, returns = dqn.train_function()\n",
    "plt.plot(ep_ids, returns)\n",
    "dqn.evaluation(video=False)\n",
    "dqn.close()"
   ]
  },
  {
   "cell_type": "markdown",
   "metadata": {
    "id": "fFadBiNp5Gq3"
   },
   "source": [
    "## Summary for evaluating frequency: \n",
    "I tried evaluating frequency both lower (5) and higher (15) than the default value (10).Rest all the parameters were kept the same. In case of the lower frequency the DQN system became very erratic and converged after 470 episodes which is way higher than the default DQN system convergence. In terms of higher value of evaluating frequency the system is quite smooth and not very erratic and takes around the same amount of episodes compared to default DQN system. Hence, the default system seem to be most stable in terms of evaluating frequency\n"
   ]
  },
  {
   "cell_type": "markdown",
   "metadata": {
    "id": "xOt8O9iFXr8_"
   },
   "source": [
    "## Trying different combination of parmeters"
   ]
  },
  {
   "cell_type": "markdown",
   "metadata": {
    "id": "z6hQWrmDzjz0"
   },
   "source": [
    "## Converging DQN with SGD"
   ]
  },
  {
   "cell_type": "code",
   "execution_count": null,
   "metadata": {
    "id": "vWGWPgLnzFHc"
   },
   "outputs": [],
   "source": [
    "#SGD with high episode value, high buffer size, high neuron value, higher neuron and learning rate, C value, epsilon\n",
    "class Parameters:\n",
    "\n",
    "    def __init__(self):\n",
    "                                 # Default values\n",
    "        self.buf_size = 15000     # 5000\n",
    "        self.batch =  256        # 256\n",
    "        self.epoch = 10           # 5\n",
    "        self.max_ep = 5000        # 500\n",
    "        self.eps = 0.8           # 0.5\n",
    "        self.gamma = 0.95         # 0.9\n",
    "        self.C = 150             # 100\n",
    "        self.train_freq = 1      # 1\n",
    "        self.eval_freq = 10      # 10\n",
    "        self.net = [(256, 'relu'), (256, 'relu'), (2, 'relu')] # [(128, 'relu'), (128, 'relu'), (2, 'relu')]\n",
    "        self.lr = 0.001         # 0.0001\n",
    "        self.opt = Optimizer.SGD # Optimizer.ADAM"
   ]
  },
  {
   "cell_type": "code",
   "execution_count": null,
   "metadata": {
    "colab": {
     "base_uri": "https://localhost:8080/",
     "height": 1000
    },
    "id": "zJ-F4BV0zkRz",
    "outputId": "0fec6426-5c13-475c-be69-5b7284b9c5ee"
   },
   "outputs": [
    {
     "name": "stdout",
     "output_type": "stream",
     "text": [
      "WARNING:tensorflow:From /tensorflow-1.15.2/python3.7/tensorflow_core/python/ops/resource_variable_ops.py:1630: calling BaseResourceVariable.__init__ (from tensorflow.python.ops.resource_variable_ops) with constraint is deprecated and will be removed in a future version.\n",
      "Instructions for updating:\n",
      "If using Keras pass *_constraint arguments to layers.\n",
      "Initialization was finished.\n",
      "Training was started.\n",
      "WARNING:tensorflow:From /tensorflow-1.15.2/python3.7/keras/backend/tensorflow_backend.py:422: The name tf.global_variables is deprecated. Please use tf.compat.v1.global_variables instead.\n",
      "\n",
      "Episode Id: 10 Return during training: 35.0\n",
      "Episode Id: 20 Return during training: 14.0\n",
      "Episode Id: 30 Return during training: 11.0\n",
      "Episode Id: 40 Return during training: 15.0\n",
      "Episode Id: 50 Return during training: 9.0\n",
      "Episode Id: 60 Return during training: 10.0\n",
      "Episode Id: 70 Return during training: 10.0\n",
      "Episode Id: 80 Return during training: 9.0\n",
      "Episode Id: 90 Return during training: 10.0\n",
      "Episode Id: 100 Return during training: 9.0\n",
      "Episode Id: 110 Return during training: 9.0\n",
      "Episode Id: 120 Return during training: 9.0\n",
      "Episode Id: 130 Return during training: 12.0\n",
      "Episode Id: 140 Return during training: 8.0\n",
      "Episode Id: 150 Return during training: 9.0\n",
      "Episode Id: 160 Return during training: 10.0\n",
      "Episode Id: 170 Return during training: 10.0\n",
      "Episode Id: 180 Return during training: 9.0\n",
      "Episode Id: 190 Return during training: 8.0\n",
      "Episode Id: 200 Return during training: 11.0\n",
      "Episode Id: 210 Return during training: 10.0\n",
      "Episode Id: 220 Return during training: 10.0\n",
      "Episode Id: 230 Return during training: 9.0\n",
      "Episode Id: 240 Return during training: 11.0\n",
      "Episode Id: 250 Return during training: 9.0\n",
      "Episode Id: 260 Return during training: 10.0\n",
      "Episode Id: 270 Return during training: 11.0\n",
      "Episode Id: 280 Return during training: 10.0\n",
      "Episode Id: 290 Return during training: 11.0\n",
      "Episode Id: 300 Return during training: 11.0\n",
      "Episode Id: 310 Return during training: 9.0\n",
      "Episode Id: 320 Return during training: 10.0\n",
      "Episode Id: 330 Return during training: 11.0\n",
      "Episode Id: 340 Return during training: 8.0\n",
      "Episode Id: 350 Return during training: 11.0\n",
      "Episode Id: 360 Return during training: 11.0\n",
      "Episode Id: 370 Return during training: 9.0\n",
      "Episode Id: 380 Return during training: 9.0\n",
      "Episode Id: 390 Return during training: 10.0\n",
      "Episode Id: 400 Return during training: 12.0\n",
      "Episode Id: 410 Return during training: 12.0\n",
      "Episode Id: 420 Return during training: 9.0\n",
      "Episode Id: 430 Return during training: 11.0\n",
      "Episode Id: 440 Return during training: 9.0\n",
      "Episode Id: 450 Return during training: 11.0\n",
      "Episode Id: 460 Return during training: 10.0\n",
      "Episode Id: 470 Return during training: 12.0\n",
      "Episode Id: 480 Return during training: 10.0\n",
      "Episode Id: 490 Return during training: 14.0\n",
      "Episode Id: 500 Return during training: 12.0\n",
      "Episode Id: 510 Return during training: 10.0\n",
      "Episode Id: 520 Return during training: 13.0\n",
      "Episode Id: 530 Return during training: 9.0\n",
      "Episode Id: 540 Return during training: 11.0\n",
      "Episode Id: 550 Return during training: 9.0\n",
      "Episode Id: 560 Return during training: 10.0\n",
      "Episode Id: 570 Return during training: 9.0\n",
      "Episode Id: 580 Return during training: 10.0\n",
      "Episode Id: 590 Return during training: 10.0\n",
      "Episode Id: 600 Return during training: 10.0\n",
      "Episode Id: 610 Return during training: 12.0\n",
      "Episode Id: 620 Return during training: 11.0\n",
      "Episode Id: 630 Return during training: 11.0\n",
      "Episode Id: 640 Return during training: 11.0\n",
      "Episode Id: 650 Return during training: 11.0\n",
      "Episode Id: 660 Return during training: 11.0\n",
      "Episode Id: 670 Return during training: 9.0\n",
      "Episode Id: 680 Return during training: 10.0\n",
      "Episode Id: 690 Return during training: 11.0\n",
      "Episode Id: 700 Return during training: 13.0\n",
      "Episode Id: 710 Return during training: 12.0\n",
      "Episode Id: 720 Return during training: 10.0\n",
      "Episode Id: 730 Return during training: 10.0\n",
      "Episode Id: 740 Return during training: 10.0\n",
      "Episode Id: 750 Return during training: 9.0\n",
      "Episode Id: 760 Return during training: 10.0\n",
      "Episode Id: 770 Return during training: 12.0\n",
      "Episode Id: 780 Return during training: 10.0\n",
      "Episode Id: 790 Return during training: 10.0\n",
      "Episode Id: 800 Return during training: 9.0\n",
      "Episode Id: 810 Return during training: 12.0\n",
      "Episode Id: 820 Return during training: 10.0\n",
      "Episode Id: 830 Return during training: 13.0\n",
      "Episode Id: 840 Return during training: 11.0\n",
      "Episode Id: 850 Return during training: 10.0\n",
      "Episode Id: 860 Return during training: 13.0\n",
      "Episode Id: 870 Return during training: 10.0\n",
      "Episode Id: 880 Return during training: 9.0\n",
      "Episode Id: 890 Return during training: 10.0\n",
      "Episode Id: 900 Return during training: 10.0\n",
      "Episode Id: 910 Return during training: 12.0\n",
      "Episode Id: 920 Return during training: 11.0\n",
      "Episode Id: 930 Return during training: 12.0\n",
      "Episode Id: 940 Return during training: 9.0\n",
      "Episode Id: 950 Return during training: 10.0\n",
      "Episode Id: 960 Return during training: 13.0\n",
      "Episode Id: 970 Return during training: 10.0\n",
      "Episode Id: 980 Return during training: 12.0\n",
      "Episode Id: 990 Return during training: 10.0\n",
      "Episode Id: 1000 Return during training: 15.0\n",
      "Episode Id: 1010 Return during training: 15.0\n",
      "Episode Id: 1020 Return during training: 14.0\n",
      "Episode Id: 1030 Return during training: 14.0\n",
      "Episode Id: 1040 Return during training: 15.0\n",
      "Episode Id: 1050 Return during training: 18.0\n",
      "Episode Id: 1060 Return during training: 12.0\n",
      "Episode Id: 1070 Return during training: 18.0\n",
      "Episode Id: 1080 Return during training: 15.0\n",
      "Episode Id: 1090 Return during training: 21.0\n",
      "Episode Id: 1100 Return during training: 17.0\n",
      "Episode Id: 1110 Return during training: 18.0\n",
      "Episode Id: 1120 Return during training: 18.0\n",
      "Episode Id: 1130 Return during training: 27.0\n",
      "Episode Id: 1140 Return during training: 22.0\n",
      "Episode Id: 1150 Return during training: 24.0\n",
      "Episode Id: 1160 Return during training: 24.0\n",
      "Episode Id: 1170 Return during training: 17.0\n",
      "Episode Id: 1180 Return during training: 20.0\n",
      "Episode Id: 1190 Return during training: 17.0\n",
      "Episode Id: 1200 Return during training: 20.0\n",
      "Episode Id: 1210 Return during training: 22.0\n",
      "Episode Id: 1220 Return during training: 24.0\n",
      "Episode Id: 1230 Return during training: 26.0\n",
      "Episode Id: 1240 Return during training: 17.0\n",
      "Episode Id: 1250 Return during training: 22.0\n",
      "Episode Id: 1260 Return during training: 21.0\n",
      "Episode Id: 1270 Return during training: 19.0\n",
      "Episode Id: 1280 Return during training: 17.0\n",
      "Episode Id: 1290 Return during training: 21.0\n",
      "Episode Id: 1300 Return during training: 21.0\n",
      "Episode Id: 1310 Return during training: 16.0\n",
      "Episode Id: 1320 Return during training: 22.0\n",
      "Episode Id: 1330 Return during training: 21.0\n",
      "Episode Id: 1340 Return during training: 16.0\n",
      "Episode Id: 1350 Return during training: 15.0\n",
      "Episode Id: 1360 Return during training: 20.0\n",
      "Episode Id: 1370 Return during training: 18.0\n",
      "Episode Id: 1380 Return during training: 17.0\n",
      "Episode Id: 1390 Return during training: 17.0\n",
      "Episode Id: 1400 Return during training: 16.0\n",
      "Episode Id: 1410 Return during training: 16.0\n",
      "Episode Id: 1420 Return during training: 20.0\n",
      "Episode Id: 1430 Return during training: 20.0\n",
      "Episode Id: 1440 Return during training: 24.0\n",
      "Episode Id: 1450 Return during training: 18.0\n",
      "Episode Id: 1460 Return during training: 22.0\n",
      "Episode Id: 1470 Return during training: 13.0\n",
      "Episode Id: 1480 Return during training: 20.0\n",
      "Episode Id: 1490 Return during training: 22.0\n",
      "Episode Id: 1500 Return during training: 22.0\n",
      "Episode Id: 1510 Return during training: 18.0\n",
      "Episode Id: 1520 Return during training: 22.0\n",
      "Episode Id: 1530 Return during training: 25.0\n",
      "Episode Id: 1540 Return during training: 26.0\n",
      "Episode Id: 1550 Return during training: 17.0\n",
      "Episode Id: 1560 Return during training: 28.0\n",
      "Episode Id: 1570 Return during training: 23.0\n",
      "Episode Id: 1580 Return during training: 19.0\n",
      "Episode Id: 1590 Return during training: 18.0\n",
      "Episode Id: 1600 Return during training: 19.0\n",
      "Episode Id: 1610 Return during training: 17.0\n",
      "Episode Id: 1620 Return during training: 22.0\n",
      "Episode Id: 1630 Return during training: 25.0\n",
      "Episode Id: 1640 Return during training: 22.0\n",
      "Episode Id: 1650 Return during training: 23.0\n",
      "Episode Id: 1660 Return during training: 24.0\n",
      "Episode Id: 1670 Return during training: 18.0\n",
      "Episode Id: 1680 Return during training: 17.0\n",
      "Episode Id: 1690 Return during training: 19.0\n",
      "Episode Id: 1700 Return during training: 22.0\n",
      "Episode Id: 1710 Return during training: 18.0\n",
      "Episode Id: 1720 Return during training: 18.0\n",
      "Episode Id: 1730 Return during training: 25.0\n",
      "Episode Id: 1740 Return during training: 20.0\n",
      "Episode Id: 1750 Return during training: 24.0\n",
      "Episode Id: 1760 Return during training: 17.0\n",
      "Episode Id: 1770 Return during training: 24.0\n",
      "Episode Id: 1780 Return during training: 24.0\n",
      "Episode Id: 1790 Return during training: 23.0\n",
      "Episode Id: 1800 Return during training: 20.0\n",
      "Episode Id: 1810 Return during training: 18.0\n",
      "Episode Id: 1820 Return during training: 23.0\n",
      "Episode Id: 1830 Return during training: 20.0\n",
      "Episode Id: 1840 Return during training: 19.0\n",
      "Episode Id: 1850 Return during training: 17.0\n",
      "Episode Id: 1860 Return during training: 22.0\n",
      "Episode Id: 1870 Return during training: 23.0\n",
      "Episode Id: 1880 Return during training: 22.0\n",
      "Episode Id: 1890 Return during training: 22.0\n",
      "Episode Id: 1900 Return during training: 19.0\n",
      "Episode Id: 1910 Return during training: 17.0\n",
      "Episode Id: 1920 Return during training: 18.0\n",
      "Episode Id: 1930 Return during training: 23.0\n",
      "Episode Id: 1940 Return during training: 29.0\n",
      "Episode Id: 1950 Return during training: 21.0\n",
      "Episode Id: 1960 Return during training: 26.0\n",
      "Episode Id: 1970 Return during training: 21.0\n",
      "Episode Id: 1980 Return during training: 28.0\n",
      "Episode Id: 1990 Return during training: 18.0\n",
      "Episode Id: 2000 Return during training: 19.0\n",
      "Episode Id: 2010 Return during training: 22.0\n",
      "Episode Id: 2020 Return during training: 19.0\n",
      "Episode Id: 2030 Return during training: 20.0\n",
      "Episode Id: 2040 Return during training: 16.0\n",
      "Episode Id: 2050 Return during training: 30.0\n",
      "Episode Id: 2060 Return during training: 23.0\n",
      "Episode Id: 2070 Return during training: 19.0\n",
      "Episode Id: 2080 Return during training: 24.0\n",
      "Episode Id: 2090 Return during training: 19.0\n",
      "Episode Id: 2100 Return during training: 23.0\n",
      "Episode Id: 2110 Return during training: 21.0\n",
      "Episode Id: 2120 Return during training: 28.0\n",
      "Episode Id: 2130 Return during training: 20.0\n",
      "Episode Id: 2140 Return during training: 16.0\n",
      "Episode Id: 2150 Return during training: 16.0\n",
      "Episode Id: 2160 Return during training: 24.0\n",
      "Episode Id: 2170 Return during training: 18.0\n",
      "Episode Id: 2180 Return during training: 22.0\n",
      "Episode Id: 2190 Return during training: 17.0\n",
      "Episode Id: 2200 Return during training: 28.0\n",
      "Episode Id: 2210 Return during training: 20.0\n",
      "Episode Id: 2220 Return during training: 26.0\n",
      "Episode Id: 2230 Return during training: 21.0\n",
      "Episode Id: 2240 Return during training: 22.0\n",
      "Episode Id: 2250 Return during training: 22.0\n",
      "Episode Id: 2260 Return during training: 31.0\n",
      "Episode Id: 2270 Return during training: 24.0\n",
      "Episode Id: 2280 Return during training: 21.0\n",
      "Episode Id: 2290 Return during training: 24.0\n",
      "Episode Id: 2300 Return during training: 27.0\n",
      "Episode Id: 2310 Return during training: 20.0\n",
      "Episode Id: 2320 Return during training: 23.0\n",
      "Episode Id: 2330 Return during training: 22.0\n",
      "Episode Id: 2340 Return during training: 17.0\n",
      "Episode Id: 2350 Return during training: 26.0\n",
      "Episode Id: 2360 Return during training: 24.0\n",
      "Episode Id: 2370 Return during training: 22.0\n",
      "Episode Id: 2380 Return during training: 21.0\n",
      "Episode Id: 2390 Return during training: 25.0\n",
      "Episode Id: 2400 Return during training: 20.0\n",
      "Episode Id: 2410 Return during training: 28.0\n",
      "Episode Id: 2420 Return during training: 22.0\n",
      "Episode Id: 2430 Return during training: 23.0\n",
      "Episode Id: 2440 Return during training: 18.0\n",
      "Episode Id: 2450 Return during training: 23.0\n",
      "Episode Id: 2460 Return during training: 27.0\n",
      "Episode Id: 2470 Return during training: 20.0\n",
      "Episode Id: 2480 Return during training: 32.0\n",
      "Episode Id: 2490 Return during training: 18.0\n",
      "Episode Id: 2500 Return during training: 21.0\n",
      "Episode Id: 2510 Return during training: 20.0\n",
      "Episode Id: 2520 Return during training: 27.0\n",
      "Episode Id: 2530 Return during training: 31.0\n",
      "Episode Id: 2540 Return during training: 27.0\n",
      "Episode Id: 2550 Return during training: 19.0\n",
      "Episode Id: 2560 Return during training: 19.0\n",
      "Episode Id: 2570 Return during training: 25.0\n",
      "Episode Id: 2580 Return during training: 30.0\n",
      "Episode Id: 2590 Return during training: 23.0\n",
      "Episode Id: 2600 Return during training: 19.0\n",
      "Episode Id: 2610 Return during training: 25.0\n",
      "Episode Id: 2620 Return during training: 31.0\n",
      "Episode Id: 2630 Return during training: 23.0\n",
      "Episode Id: 2640 Return during training: 25.0\n",
      "Episode Id: 2650 Return during training: 28.0\n",
      "Episode Id: 2660 Return during training: 27.0\n",
      "Episode Id: 2670 Return during training: 19.0\n",
      "Episode Id: 2680 Return during training: 21.0\n",
      "Episode Id: 2690 Return during training: 27.0\n",
      "Episode Id: 2700 Return during training: 22.0\n",
      "Episode Id: 2710 Return during training: 17.0\n",
      "Episode Id: 2720 Return during training: 23.0\n",
      "Episode Id: 2730 Return during training: 25.0\n",
      "Episode Id: 2740 Return during training: 19.0\n",
      "Episode Id: 2750 Return during training: 20.0\n",
      "Episode Id: 2760 Return during training: 21.0\n",
      "Episode Id: 2770 Return during training: 17.0\n",
      "Episode Id: 2780 Return during training: 23.0\n",
      "Episode Id: 2790 Return during training: 18.0\n",
      "Episode Id: 2800 Return during training: 19.0\n",
      "Episode Id: 2810 Return during training: 28.0\n",
      "Episode Id: 2820 Return during training: 19.0\n",
      "Episode Id: 2830 Return during training: 26.0\n",
      "Episode Id: 2840 Return during training: 19.0\n",
      "Episode Id: 2850 Return during training: 21.0\n",
      "Episode Id: 2860 Return during training: 23.0\n",
      "Episode Id: 2870 Return during training: 26.0\n",
      "Episode Id: 2880 Return during training: 24.0\n",
      "Episode Id: 2890 Return during training: 25.0\n",
      "Episode Id: 2900 Return during training: 20.0\n",
      "Episode Id: 2910 Return during training: 22.0\n",
      "Episode Id: 2920 Return during training: 22.0\n",
      "Episode Id: 2930 Return during training: 19.0\n",
      "Episode Id: 2940 Return during training: 25.0\n",
      "Episode Id: 2950 Return during training: 27.0\n",
      "Episode Id: 2960 Return during training: 27.0\n",
      "Episode Id: 2970 Return during training: 24.0\n",
      "Episode Id: 2980 Return during training: 25.0\n",
      "Episode Id: 2990 Return during training: 28.0\n",
      "Episode Id: 3000 Return during training: 23.0\n",
      "Episode Id: 3010 Return during training: 18.0\n",
      "Episode Id: 3020 Return during training: 29.0\n",
      "Episode Id: 3030 Return during training: 27.0\n",
      "Episode Id: 3040 Return during training: 20.0\n",
      "Episode Id: 3050 Return during training: 25.0\n",
      "Episode Id: 3060 Return during training: 28.0\n",
      "Episode Id: 3070 Return during training: 17.0\n",
      "Episode Id: 3080 Return during training: 21.0\n",
      "Episode Id: 3090 Return during training: 21.0\n",
      "Episode Id: 3100 Return during training: 24.0\n",
      "Episode Id: 3110 Return during training: 19.0\n",
      "Episode Id: 3120 Return during training: 24.0\n",
      "Episode Id: 3130 Return during training: 30.0\n",
      "Episode Id: 3140 Return during training: 26.0\n",
      "Episode Id: 3150 Return during training: 27.0\n",
      "Episode Id: 3160 Return during training: 19.0\n",
      "Episode Id: 3170 Return during training: 21.0\n",
      "Episode Id: 3180 Return during training: 22.0\n",
      "Episode Id: 3190 Return during training: 30.0\n",
      "Episode Id: 3200 Return during training: 25.0\n",
      "Episode Id: 3210 Return during training: 20.0\n",
      "Episode Id: 3220 Return during training: 18.0\n",
      "Episode Id: 3230 Return during training: 29.0\n",
      "Episode Id: 3240 Return during training: 19.0\n",
      "Episode Id: 3250 Return during training: 26.0\n",
      "Episode Id: 3260 Return during training: 21.0\n",
      "Episode Id: 3270 Return during training: 17.0\n",
      "Episode Id: 3280 Return during training: 16.0\n",
      "Episode Id: 3290 Return during training: 25.0\n",
      "Episode Id: 3300 Return during training: 18.0\n",
      "Episode Id: 3310 Return during training: 19.0\n",
      "Episode Id: 3320 Return during training: 17.0\n",
      "Episode Id: 3330 Return during training: 22.0\n",
      "Episode Id: 3340 Return during training: 22.0\n",
      "Episode Id: 3350 Return during training: 21.0\n",
      "Episode Id: 3360 Return during training: 20.0\n",
      "Episode Id: 3370 Return during training: 23.0\n",
      "Episode Id: 3380 Return during training: 23.0\n",
      "Episode Id: 3390 Return during training: 17.0\n",
      "Episode Id: 3400 Return during training: 27.0\n",
      "Episode Id: 3410 Return during training: 29.0\n",
      "Episode Id: 3420 Return during training: 17.0\n",
      "Episode Id: 3430 Return during training: 22.0\n",
      "Episode Id: 3440 Return during training: 23.0\n",
      "Episode Id: 3450 Return during training: 25.0\n",
      "Episode Id: 3460 Return during training: 23.0\n",
      "Episode Id: 3470 Return during training: 21.0\n",
      "Episode Id: 3480 Return during training: 21.0\n",
      "Episode Id: 3490 Return during training: 25.0\n",
      "Episode Id: 3500 Return during training: 27.0\n",
      "Episode Id: 3510 Return during training: 27.0\n",
      "Episode Id: 3520 Return during training: 27.0\n",
      "Episode Id: 3530 Return during training: 25.0\n",
      "Episode Id: 3540 Return during training: 22.0\n",
      "Episode Id: 3550 Return during training: 24.0\n",
      "Episode Id: 3560 Return during training: 25.0\n",
      "Episode Id: 3570 Return during training: 22.0\n",
      "Episode Id: 3580 Return during training: 23.0\n",
      "Episode Id: 3590 Return during training: 23.0\n",
      "Episode Id: 3600 Return during training: 24.0\n",
      "Episode Id: 3610 Return during training: 20.0\n",
      "Episode Id: 3620 Return during training: 27.0\n",
      "Episode Id: 3630 Return during training: 25.0\n",
      "Episode Id: 3640 Return during training: 30.0\n",
      "Episode Id: 3650 Return during training: 26.0\n",
      "Episode Id: 3660 Return during training: 22.0\n",
      "Episode Id: 3670 Return during training: 21.0\n",
      "Episode Id: 3680 Return during training: 21.0\n",
      "Episode Id: 3690 Return during training: 26.0\n",
      "Episode Id: 3700 Return during training: 30.0\n",
      "Episode Id: 3710 Return during training: 24.0\n",
      "Episode Id: 3720 Return during training: 20.0\n",
      "Episode Id: 3730 Return during training: 24.0\n",
      "Episode Id: 3740 Return during training: 26.0\n",
      "Episode Id: 3750 Return during training: 24.0\n",
      "Episode Id: 3760 Return during training: 24.0\n",
      "Episode Id: 3770 Return during training: 19.0\n",
      "Episode Id: 3780 Return during training: 27.0\n",
      "Episode Id: 3790 Return during training: 28.0\n",
      "Episode Id: 3800 Return during training: 20.0\n",
      "Episode Id: 3810 Return during training: 27.0\n",
      "Episode Id: 3820 Return during training: 19.0\n",
      "Episode Id: 3830 Return during training: 21.0\n",
      "Episode Id: 3840 Return during training: 19.0\n",
      "Episode Id: 3850 Return during training: 22.0\n",
      "Episode Id: 3860 Return during training: 30.0\n",
      "Episode Id: 3870 Return during training: 24.0\n",
      "Episode Id: 3880 Return during training: 20.0\n",
      "Episode Id: 3890 Return during training: 23.0\n",
      "Episode Id: 3900 Return during training: 30.0\n",
      "Episode Id: 3910 Return during training: 24.0\n",
      "Episode Id: 3920 Return during training: 24.0\n",
      "Episode Id: 3930 Return during training: 30.0\n",
      "Episode Id: 3940 Return during training: 25.0\n",
      "Episode Id: 3950 Return during training: 22.0\n",
      "Episode Id: 3960 Return during training: 28.0\n",
      "Episode Id: 3970 Return during training: 26.0\n",
      "Episode Id: 3980 Return during training: 27.0\n",
      "Episode Id: 3990 Return during training: 21.0\n",
      "Episode Id: 4000 Return during training: 22.0\n",
      "Episode Id: 4010 Return during training: 30.0\n",
      "Episode Id: 4020 Return during training: 24.0\n",
      "Episode Id: 4030 Return during training: 24.0\n",
      "Episode Id: 4040 Return during training: 20.0\n",
      "Episode Id: 4050 Return during training: 23.0\n",
      "Episode Id: 4060 Return during training: 24.0\n",
      "Episode Id: 4070 Return during training: 27.0\n",
      "Episode Id: 4080 Return during training: 26.0\n",
      "Episode Id: 4090 Return during training: 26.0\n",
      "Episode Id: 4100 Return during training: 23.0\n",
      "Episode Id: 4110 Return during training: 23.0\n",
      "Episode Id: 4120 Return during training: 23.0\n",
      "Episode Id: 4130 Return during training: 21.0\n",
      "Episode Id: 4140 Return during training: 22.0\n",
      "Episode Id: 4150 Return during training: 22.0\n",
      "Episode Id: 4160 Return during training: 20.0\n",
      "Episode Id: 4170 Return during training: 25.0\n",
      "Episode Id: 4180 Return during training: 26.0\n",
      "Episode Id: 4190 Return during training: 22.0\n",
      "Episode Id: 4200 Return during training: 24.0\n",
      "Episode Id: 4210 Return during training: 25.0\n",
      "Episode Id: 4220 Return during training: 22.0\n",
      "Episode Id: 4230 Return during training: 28.0\n",
      "Episode Id: 4240 Return during training: 30.0\n",
      "Episode Id: 4250 Return during training: 21.0\n",
      "Episode Id: 4260 Return during training: 24.0\n",
      "Episode Id: 4270 Return during training: 23.0\n",
      "Episode Id: 4280 Return during training: 22.0\n",
      "Episode Id: 4290 Return during training: 25.0\n",
      "Episode Id: 4300 Return during training: 26.0\n",
      "Episode Id: 4310 Return during training: 27.0\n",
      "Episode Id: 4320 Return during training: 22.0\n",
      "Episode Id: 4330 Return during training: 27.0\n",
      "Episode Id: 4340 Return during training: 29.0\n",
      "Episode Id: 4350 Return during training: 32.0\n",
      "Episode Id: 4360 Return during training: 27.0\n",
      "Episode Id: 4370 Return during training: 28.0\n",
      "Episode Id: 4380 Return during training: 22.0\n",
      "Episode Id: 4390 Return during training: 32.0\n",
      "Episode Id: 4400 Return during training: 25.0\n",
      "Episode Id: 4410 Return during training: 61.0\n",
      "Episode Id: 4420 Return during training: 34.0\n",
      "Episode Id: 4430 Return during training: 24.0\n",
      "Episode Id: 4440 Return during training: 22.0\n",
      "Episode Id: 4450 Return during training: 33.0\n",
      "Episode Id: 4460 Return during training: 34.0\n",
      "Episode Id: 4470 Return during training: 27.0\n",
      "Episode Id: 4480 Return during training: 26.0\n",
      "Episode Id: 4490 Return during training: 21.0\n",
      "Episode Id: 4500 Return during training: 23.0\n",
      "Episode Id: 4510 Return during training: 26.0\n",
      "Episode Id: 4520 Return during training: 23.0\n",
      "Episode Id: 4530 Return during training: 33.0\n",
      "Episode Id: 4540 Return during training: 20.0\n",
      "Episode Id: 4550 Return during training: 32.0\n",
      "Episode Id: 4560 Return during training: 47.0\n",
      "Episode Id: 4570 Return during training: 29.0\n",
      "Episode Id: 4580 Return during training: 36.0\n",
      "Episode Id: 4590 Return during training: 38.0\n",
      "Episode Id: 4600 Return during training: 40.0\n",
      "Episode Id: 4610 Return during training: 38.0\n",
      "Episode Id: 4620 Return during training: 41.0\n",
      "Episode Id: 4630 Return during training: 41.0\n",
      "Episode Id: 4640 Return during training: 77.0\n",
      "Episode Id: 4650 Return during training: 42.0\n",
      "Episode Id: 4660 Return during training: 44.0\n",
      "Episode Id: 4670 Return during training: 37.0\n",
      "Episode Id: 4680 Return during training: 37.0\n",
      "Episode Id: 4690 Return during training: 39.0\n",
      "Episode Id: 4700 Return during training: 73.0\n",
      "Episode Id: 4710 Return during training: 38.0\n",
      "Episode Id: 4720 Return during training: 37.0\n",
      "Episode Id: 4730 Return during training: 36.0\n",
      "Episode Id: 4740 Return during training: 39.0\n",
      "Episode Id: 4750 Return during training: 39.0\n",
      "Episode Id: 4760 Return during training: 68.0\n",
      "Episode Id: 4770 Return during training: 37.0\n",
      "Episode Id: 4780 Return during training: 38.0\n",
      "Episode Id: 4790 Return during training: 101.0\n",
      "Episode Id: 4800 Return during training: 78.0\n",
      "Episode Id: 4810 Return during training: 114.0\n",
      "Episode Id: 4820 Return during training: 123.0\n",
      "Episode Id: 4830 Return during training: 131.0\n",
      "Episode Id: 4840 Return during training: 116.0\n",
      "Episode Id: 4850 Return during training: 122.0\n",
      "Episode Id: 4860 Return during training: 112.0\n",
      "Episode Id: 4870 Return during training: 117.0\n",
      "Episode Id: 4880 Return during training: 114.0\n",
      "Episode Id: 4890 Return during training: 118.0\n",
      "Episode Id: 4900 Return during training: 119.0\n",
      "Episode Id: 4910 Return during training: 112.0\n",
      "Episode Id: 4920 Return during training: 115.0\n",
      "Episode Id: 4930 Return during training: 112.0\n",
      "Episode Id: 4940 Return during training: 110.0\n",
      "Episode Id: 4950 Return during training: 22.0\n",
      "Episode Id: 4960 Return during training: 117.0\n",
      "Episode Id: 4970 Return during training: 112.0\n",
      "Episode Id: 4980 Return during training: 24.0\n",
      "Episode Id: 4990 Return during training: 118.0\n",
      "Training was finished.\n"
     ]
    },
    {
     "data": {
      "image/png": "[encoded data removed]",
      "text/plain": [
       "<Figure size 432x288 with 1 Axes>"
      ]
     },
     "metadata": {
      "needs_background": "light"
     },
     "output_type": "display_data"
    }
   ],
   "source": [
    "# Running the training and evaluation\n",
    "from tensorflow.keras import backend as be\n",
    "be.clear_session()\n",
    "pms = Parameters()\n",
    "dqn = Dqn(pms)\n",
    "ep_ids, returns = dqn.train_function()\n",
    "plt.plot(ep_ids, returns)\n",
    "dqn.evaluation(video=False)\n",
    "dqn.close()"
   ]
  },
  {
   "cell_type": "markdown",
   "metadata": {
    "id": "dbbsFrpRDU6d"
   },
   "source": [
    "## Summary for SGD\n",
    "I used the best parameters derived from above explorations (high buffer size (15000), high epsilon(0.8), high gamma(0.95), high number of neurons(256)). We can see by the end of 5000 episodes the SGD optimizer has also started to converge to the required return value. The highest value of 131  return was achieved . So, it seems like  it will converge to the required value for a higher number of episodes as well."
   ]
  },
  {
   "cell_type": "markdown",
   "metadata": {
    "id": "xbVxdjeJzp2X"
   },
   "source": [
    "## Converging DQN with different Train Frequency"
   ]
  },
  {
   "cell_type": "markdown",
   "metadata": {
    "id": "IlDpXNbj1Ill"
   },
   "source": [
    "The DQN did not converge in 500 episodes with varied values of train frequency (5,10) and keeping the rest of the values as default. So, now we try to converge this DQN with different values other than the default values."
   ]
  },
  {
   "cell_type": "code",
   "execution_count": null,
   "metadata": {
    "id": "24q2mvw40Mo9"
   },
   "outputs": [],
   "source": [
    "#Train Frequency = 5\n",
    "class Parameters:\n",
    "\n",
    "    def __init__(self):\n",
    "                                 # Default values\n",
    "        self.buf_size = 10000     # 5000\n",
    "        self.batch =  256        # 256\n",
    "        self.epoch = 10           # 5\n",
    "        self.max_ep = 1000        # 500\n",
    "        self.eps = 0.8           # 0.5\n",
    "        self.gamma = 0.95         # 0.9\n",
    "        self.C = 100             # 100\n",
    "        self.train_freq = 5      # 1\n",
    "        self.eval_freq = 10      # 10\n",
    "        self.net = [(256, 'relu'), (256, 'relu'), (2, 'relu')] # [(128, 'relu'), (128, 'relu'), (2, 'relu')]\n",
    "        self.lr = 0.0001         # 0.0001\n",
    "        self.opt = Optimizer.ADAM # Optimizer.ADAM"
   ]
  },
  {
   "cell_type": "code",
   "execution_count": null,
   "metadata": {
    "colab": {
     "base_uri": "https://localhost:8080/",
     "height": 893
    },
    "id": "C5fqjrYwXGUZ",
    "outputId": "e4c884dd-6050-468e-ed14-4acb4e632425"
   },
   "outputs": [
    {
     "name": "stdout",
     "output_type": "stream",
     "text": [
      "WARNING:tensorflow:From /tensorflow-1.15.2/python3.7/tensorflow_core/python/ops/resource_variable_ops.py:1630: calling BaseResourceVariable.__init__ (from tensorflow.python.ops.resource_variable_ops) with constraint is deprecated and will be removed in a future version.\n",
      "Instructions for updating:\n",
      "If using Keras pass *_constraint arguments to layers.\n",
      "Initialization was finished.\n",
      "Training was started.\n",
      "WARNING:tensorflow:From /tensorflow-1.15.2/python3.7/keras/backend/tensorflow_backend.py:422: The name tf.global_variables is deprecated. Please use tf.compat.v1.global_variables instead.\n",
      "\n",
      "Episode Id: 10 Return during training: 15.0\n",
      "Episode Id: 20 Return during training: 12.0\n",
      "Episode Id: 30 Return during training: 13.0\n",
      "Episode Id: 40 Return during training: 13.0\n",
      "Episode Id: 50 Return during training: 10.0\n",
      "Episode Id: 60 Return during training: 9.0\n",
      "Episode Id: 70 Return during training: 10.0\n",
      "Episode Id: 80 Return during training: 10.0\n",
      "Episode Id: 90 Return during training: 9.0\n",
      "Episode Id: 100 Return during training: 10.0\n",
      "Episode Id: 110 Return during training: 17.0\n",
      "Episode Id: 120 Return during training: 16.0\n",
      "Episode Id: 130 Return during training: 10.0\n",
      "Episode Id: 140 Return during training: 18.0\n",
      "Episode Id: 150 Return during training: 16.0\n",
      "Episode Id: 160 Return during training: 12.0\n",
      "Episode Id: 170 Return during training: 11.0\n",
      "Episode Id: 180 Return during training: 40.0\n",
      "Episode Id: 190 Return during training: 42.0\n",
      "Episode Id: 200 Return during training: 26.0\n",
      "Episode Id: 210 Return during training: 25.0\n",
      "Episode Id: 220 Return during training: 113.0\n",
      "Episode Id: 230 Return during training: 21.0\n",
      "Episode Id: 240 Return during training: 171.0\n",
      "Episode Id: 250 Return during training: 85.0\n",
      "Episode Id: 260 Return during training: 105.0\n",
      "Episode Id: 270 Return during training: 146.0\n",
      "Training was finished.\n"
     ]
    },
    {
     "data": {
      "image/png": "[encoded data removed]",
      "text/plain": [
       "<Figure size 432x288 with 1 Axes>"
      ]
     },
     "metadata": {
      "needs_background": "light"
     },
     "output_type": "display_data"
    }
   ],
   "source": [
    "# Running the training and evaluation\n",
    "from tensorflow.keras import backend as be\n",
    "be.clear_session()\n",
    "pms = Parameters()\n",
    "dqn = Dqn(pms)\n",
    "ep_ids, returns = dqn.train_function()\n",
    "plt.plot(ep_ids, returns)\n",
    "dqn.evaluation(video=False)\n",
    "dqn.close()"
   ]
  },
  {
   "cell_type": "code",
   "execution_count": null,
   "metadata": {
    "id": "rzwOInvAto03"
   },
   "outputs": [],
   "source": [
    "#Train Frequency = 10\n",
    "class Parameters:\n",
    "\n",
    "    def __init__(self):\n",
    "                                 # Default values\n",
    "        self.buf_size = 10000     # 5000\n",
    "        self.batch =  256        # 256\n",
    "        self.epoch = 10           # 5\n",
    "        self.max_ep = 1000        # 500\n",
    "        self.eps = 0.8           # 0.5\n",
    "        self.gamma = 0.95         # 0.9\n",
    "        self.C = 100             # 100\n",
    "        self.train_freq = 10      # 1\n",
    "        self.eval_freq = 10      # 10\n",
    "        self.net = [(256, 'relu'), (256, 'relu'), (2, 'relu')] # [(128, 'relu'), (128, 'relu'), (2, 'relu')]\n",
    "        self.lr = 0.0001         # 0.0001\n",
    "        self.opt = Optimizer.ADAM # Optimizer.ADAM"
   ]
  },
  {
   "cell_type": "code",
   "execution_count": null,
   "metadata": {
    "colab": {
     "base_uri": "https://localhost:8080/",
     "height": 768
    },
    "id": "T92AsAPStslX",
    "outputId": "fc426ef1-79fd-42a6-a7f4-c9dea8fd10af"
   },
   "outputs": [
    {
     "name": "stdout",
     "output_type": "stream",
     "text": [
      "Initialization was finished.\n",
      "Training was started.\n",
      "Episode Id: 10 Return during training: 33.0\n",
      "Episode Id: 20 Return during training: 13.0\n",
      "Episode Id: 30 Return during training: 12.0\n",
      "Episode Id: 40 Return during training: 13.0\n",
      "Episode Id: 50 Return during training: 10.0\n",
      "Episode Id: 60 Return during training: 10.0\n",
      "Episode Id: 70 Return during training: 11.0\n",
      "Episode Id: 80 Return during training: 14.0\n",
      "Episode Id: 90 Return during training: 28.0\n",
      "Episode Id: 100 Return during training: 11.0\n",
      "Episode Id: 110 Return during training: 36.0\n",
      "Episode Id: 120 Return during training: 53.0\n",
      "Episode Id: 130 Return during training: 64.0\n",
      "Episode Id: 140 Return during training: 59.0\n",
      "Episode Id: 150 Return during training: 72.0\n",
      "Episode Id: 160 Return during training: 64.0\n",
      "Episode Id: 170 Return during training: 48.0\n",
      "Episode Id: 180 Return during training: 116.0\n",
      "Episode Id: 190 Return during training: 118.0\n",
      "Episode Id: 200 Return during training: 121.0\n",
      "Episode Id: 210 Return during training: 170.0\n",
      "Episode Id: 220 Return during training: 95.0\n",
      "Episode Id: 230 Return during training: 137.0\n",
      "Episode Id: 240 Return during training: 119.0\n",
      "Episode Id: 250 Return during training: 139.0\n",
      "Episode Id: 260 Return during training: 187.0\n",
      "Training was finished.\n"
     ]
    },
    {
     "data": {
      "image/png": "[encoded data removed]",
      "text/plain": [
       "<Figure size 432x288 with 1 Axes>"
      ]
     },
     "metadata": {
      "needs_background": "light"
     },
     "output_type": "display_data"
    }
   ],
   "source": [
    "# Running the training and evaluation\n",
    "from tensorflow.keras import backend as be\n",
    "import tensorflow as tf\n",
    "be.clear_session()\n",
    "tf.reset_default_graph()\n",
    "pms = Parameters()\n",
    "dqn = Dqn(pms)\n",
    "ep_ids, returns = dqn.train_function()\n",
    "plt.plot(ep_ids, returns)\n",
    "dqn.evaluation(video=False)\n",
    "dqn.close()"
   ]
  },
  {
   "cell_type": "markdown",
   "metadata": {
    "id": "JYXJjaHQwV9c"
   },
   "source": [
    "## Summary for train frequency\n",
    "\n",
    "In earlier tries with values of train frequency of 5 and 10 and  rest of the values as default the DQN did not converge with 500 episodes. But now with changing the buffer size (10000), epochs (10), gamma (0.95), epsilon (0.8), neurons (256) to a higher value than default as these were found to be better for the DQN performance overall now the network converges in both the cases for the required return value in around 270 episodes in both the cases."
   ]
  },
  {
   "cell_type": "markdown",
   "metadata": {
    "id": "iXQlZyxcYLNJ"
   },
   "source": [
    "## Running some of the Best and Worst performing Parameters"
   ]
  },
  {
   "cell_type": "code",
   "execution_count": null,
   "metadata": {
    "id": "qfjndLGGgnxh"
   },
   "outputs": [],
   "source": [
    "#Setting Parameters to some of the lowest performance parameters from previous observations\n",
    "class Parameters:\n",
    "\n",
    "    def __init__(self):\n",
    "                                 # Default values\n",
    "        self.buf_size = 2500     # 5000\n",
    "        self.batch = 32         # 256\n",
    "        self.epoch = 3           # 5\n",
    "        self.max_ep = 5000        # 500\n",
    "        self.eps = 0.3           # 0.5\n",
    "        self.gamma = 0.85         # 0.9\n",
    "        self.C = 50             # 100\n",
    "        self.train_freq = 1      # 1\n",
    "        self.eval_freq = 5      # 10\n",
    "        self.net = [(64, 'relu'), (64, 'relu'), (2, 'relu')] # [(128, 'relu'), (128, 'relu'), (2, 'relu')]\n",
    "        self.lr = 0.01         # 0.0001\n",
    "        self.opt = Optimizer.ADAM # Optimizer.ADAM"
   ]
  },
  {
   "cell_type": "code",
   "execution_count": null,
   "metadata": {
    "colab": {
     "base_uri": "https://localhost:8080/",
     "height": 1000
    },
    "id": "X7cGk2noCOh8",
    "outputId": "f933add6-d6b9-44b5-cd1e-88042e5ed0c8"
   },
   "outputs": [
    {
     "name": "stdout",
     "output_type": "stream",
     "text": [
      "WARNING:tensorflow:From /tensorflow-1.15.2/python3.7/tensorflow_core/python/ops/resource_variable_ops.py:1630: calling BaseResourceVariable.__init__ (from tensorflow.python.ops.resource_variable_ops) with constraint is deprecated and will be removed in a future version.\n",
      "Instructions for updating:\n",
      "If using Keras pass *_constraint arguments to layers.\n",
      "Initialization was finished.\n",
      "Training was started.\n",
      "WARNING:tensorflow:From /tensorflow-1.15.2/python3.7/keras/backend/tensorflow_backend.py:422: The name tf.global_variables is deprecated. Please use tf.compat.v1.global_variables instead.\n",
      "\n",
      "Episode Id: 10 Return during training: 9.0\n",
      "Episode Id: 20 Return during training: 11.0\n",
      "Episode Id: 30 Return during training: 24.0\n",
      "Episode Id: 40 Return during training: 15.0\n",
      "Episode Id: 50 Return during training: 76.0\n",
      "Episode Id: 60 Return during training: 15.0\n",
      "Episode Id: 70 Return during training: 19.0\n",
      "Episode Id: 80 Return during training: 29.0\n",
      "Episode Id: 90 Return during training: 18.0\n",
      "Episode Id: 100 Return during training: 11.0\n",
      "Episode Id: 110 Return during training: 8.0\n",
      "Episode Id: 120 Return during training: 9.0\n",
      "Episode Id: 130 Return during training: 9.0\n",
      "Episode Id: 140 Return during training: 12.0\n",
      "Episode Id: 150 Return during training: 28.0\n",
      "Episode Id: 160 Return during training: 10.0\n",
      "Episode Id: 170 Return during training: 10.0\n",
      "Episode Id: 180 Return during training: 11.0\n",
      "Episode Id: 190 Return during training: 10.0\n",
      "Episode Id: 200 Return during training: 10.0\n",
      "Episode Id: 210 Return during training: 9.0\n",
      "Episode Id: 220 Return during training: 9.0\n",
      "Episode Id: 230 Return during training: 9.0\n",
      "Episode Id: 240 Return during training: 12.0\n",
      "Episode Id: 250 Return during training: 9.0\n",
      "Episode Id: 260 Return during training: 25.0\n",
      "Episode Id: 270 Return during training: 10.0\n",
      "Episode Id: 280 Return during training: 10.0\n",
      "Episode Id: 290 Return during training: 10.0\n",
      "Episode Id: 300 Return during training: 9.0\n",
      "Episode Id: 310 Return during training: 28.0\n",
      "Episode Id: 320 Return during training: 11.0\n",
      "Episode Id: 330 Return during training: 10.0\n",
      "Episode Id: 340 Return during training: 11.0\n",
      "Episode Id: 350 Return during training: 10.0\n",
      "Episode Id: 360 Return during training: 9.0\n",
      "Episode Id: 370 Return during training: 34.0\n",
      "Episode Id: 380 Return during training: 93.0\n",
      "Episode Id: 390 Return during training: 40.0\n",
      "Episode Id: 400 Return during training: 14.0\n",
      "Episode Id: 410 Return during training: 112.0\n",
      "Episode Id: 420 Return during training: 107.0\n",
      "Episode Id: 430 Return during training: 123.0\n",
      "Episode Id: 440 Return during training: 97.0\n",
      "Episode Id: 450 Return during training: 104.0\n",
      "Episode Id: 460 Return during training: 125.0\n",
      "Episode Id: 470 Return during training: 129.0\n",
      "Episode Id: 480 Return during training: 128.0\n",
      "Episode Id: 490 Return during training: 126.0\n",
      "Training was finished.\n"
     ]
    },
    {
     "data": {
      "image/png": "[encoded data removed]",
      "text/plain": [
       "<Figure size 432x288 with 1 Axes>"
      ]
     },
     "metadata": {
      "needs_background": "light"
     },
     "output_type": "display_data"
    }
   ],
   "source": [
    "# Running the training and evaluation\n",
    "from tensorflow.keras import backend as be\n",
    "import tensorflow as tf\n",
    "be.clear_session()\n",
    "tf.reset_default_graph()\n",
    "pms = Parameters()\n",
    "dqn = Dqn(pms)\n",
    "ep_ids, returns = dqn.train_function()\n",
    "plt.plot(ep_ids, returns)\n",
    "dqn.evaluation(video=False)\n",
    "dqn.close()"
   ]
  },
  {
   "cell_type": "code",
   "execution_count": null,
   "metadata": {
    "id": "tPxeQwGnwWpJ"
   },
   "outputs": [],
   "source": [
    "#setting parameters to best parameters from previous explorations\n",
    "class Parameters:\n",
    "\n",
    "    def __init__(self):\n",
    "                                 # Default values\n",
    "        self.buf_size = 10000     # 5000\n",
    "        self.batch = 256         # 512\n",
    "        self.epoch = 5           # 5\n",
    "        self.max_ep = 500        # 500\n",
    "        self.eps = 0.8           # 0.5\n",
    "        self.gamma = 0.95         # 0.9\n",
    "        self.C = 150             # 100\n",
    "        self.train_freq = 1      # 1\n",
    "        self.eval_freq = 10      # 10\n",
    "        self.net = [(256, 'relu'), (256, 'relu'), (2, 'relu')] # [(128, 'relu'), (128, 'relu'), (2, 'relu')]\n",
    "        self.lr = 0.0001         # 0.0001\n",
    "        self.opt = Optimizer.ADAM # Optimizer.ADAM"
   ]
  },
  {
   "cell_type": "code",
   "execution_count": null,
   "metadata": {
    "colab": {
     "base_uri": "https://localhost:8080/",
     "height": 543
    },
    "id": "O-gZTK-F_z42",
    "outputId": "dc5202cc-1f0c-43ff-db83-0c8777374911"
   },
   "outputs": [
    {
     "name": "stdout",
     "output_type": "stream",
     "text": [
      "Initialization was finished.\n",
      "Training was started.\n",
      "Episode Id: 10 Return during training: 30.0\n",
      "Episode Id: 20 Return during training: 10.0\n",
      "Episode Id: 30 Return during training: 10.0\n",
      "Episode Id: 40 Return during training: 11.0\n",
      "Episode Id: 50 Return during training: 10.0\n",
      "Episode Id: 60 Return during training: 28.0\n",
      "Episode Id: 70 Return during training: 153.0\n",
      "Episode Id: 80 Return during training: 31.0\n",
      "Episode Id: 90 Return during training: 10.0\n",
      "Episode Id: 100 Return during training: 152.0\n",
      "Episode Id: 110 Return during training: 200.0\n",
      "Episode Id: 120 Return during training: 200.0\n",
      "Episode Id: 130 Return during training: 156.0\n",
      "Training was finished.\n"
     ]
    },
    {
     "data": {
      "image/png": "[encoded data removed]",
      "text/plain": [
       "<Figure size 432x288 with 1 Axes>"
      ]
     },
     "metadata": {
      "needs_background": "light"
     },
     "output_type": "display_data"
    }
   ],
   "source": [
    "# Running the training and evaluation\n",
    "from tensorflow.keras import backend as be\n",
    "import tensorflow as tf\n",
    "be.clear_session()\n",
    "tf.reset_default_graph()\n",
    "pms = Parameters()\n",
    "dqn = Dqn(pms)\n",
    "ep_ids, returns = dqn.train_function()\n",
    "plt.plot(ep_ids, returns)\n",
    "dqn.evaluation(video=False)\n",
    "dqn.close()"
   ]
  },
  {
   "cell_type": "markdown",
   "metadata": {
    "id": "8ecB7pxKYYxJ"
   },
   "source": [
    "## Summary for best and worst parameters\n",
    "\n",
    "In case of some of the best parameters the system converged pretty soon as expected and the learning was also quite linear in that case.\n",
    "\n",
    "In case of some of the worst performing parameters the system was very erratic and took a long time to converge to the required return but the important take away is that the DQN still converged to the required return value."
   ]
  }
 ],
 "metadata": {
  "accelerator": "GPU",
  "colab": {
   "collapsed_sections": [],
   "name": "RL_day5_dqn_handout_Final_Naman.ipynb",
   "provenance": []
  },
  "kernelspec": {
   "display_name": "Python 3",
   "language": "python",
   "name": "python3"
  },
  "language_info": {
   "codemirror_mode": {
    "name": "ipython",
    "version": 3
   },
   "file_extension": ".py",
   "mimetype": "text/x-python",
   "name": "python",
   "nbconvert_exporter": "python",
   "pygments_lexer": "ipython3",
   "version": "3.7.8"
  }
 },
 "nbformat": 4,
 "nbformat_minor": 1
}
